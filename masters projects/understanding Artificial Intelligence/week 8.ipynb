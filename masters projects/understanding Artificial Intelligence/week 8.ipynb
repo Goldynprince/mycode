{
 "cells": [
  {
   "cell_type": "code",
   "execution_count": 1,
   "id": "abc7c967",
   "metadata": {},
   "outputs": [],
   "source": [
    "import numpy as np\n",
    "import pandas as pd\n",
    "import matplotlib.pyplot as plt\n",
    "import seaborn as sns"
   ]
  },
  {
   "cell_type": "code",
   "execution_count": 2,
   "id": "321757e3",
   "metadata": {},
   "outputs": [],
   "source": [
    "df = pd.read_csv('BMI.csv')"
   ]
  },
  {
   "cell_type": "code",
   "execution_count": 3,
   "id": "b03caf2c",
   "metadata": {},
   "outputs": [
    {
     "data": {
      "text/html": [
       "<div>\n",
       "<style scoped>\n",
       "    .dataframe tbody tr th:only-of-type {\n",
       "        vertical-align: middle;\n",
       "    }\n",
       "\n",
       "    .dataframe tbody tr th {\n",
       "        vertical-align: top;\n",
       "    }\n",
       "\n",
       "    .dataframe thead th {\n",
       "        text-align: right;\n",
       "    }\n",
       "</style>\n",
       "<table border=\"1\" class=\"dataframe\">\n",
       "  <thead>\n",
       "    <tr style=\"text-align: right;\">\n",
       "      <th></th>\n",
       "      <th>age</th>\n",
       "      <th>height</th>\n",
       "      <th>weight</th>\n",
       "      <th>bmi</th>\n",
       "      <th>class_</th>\n",
       "    </tr>\n",
       "  </thead>\n",
       "  <tbody>\n",
       "    <tr>\n",
       "      <th>0</th>\n",
       "      <td>18</td>\n",
       "      <td>1.70</td>\n",
       "      <td>130.51</td>\n",
       "      <td>45.39</td>\n",
       "      <td>obese</td>\n",
       "    </tr>\n",
       "    <tr>\n",
       "      <th>1</th>\n",
       "      <td>71</td>\n",
       "      <td>1.70</td>\n",
       "      <td>69.30</td>\n",
       "      <td>24.04</td>\n",
       "      <td>normal</td>\n",
       "    </tr>\n",
       "    <tr>\n",
       "      <th>2</th>\n",
       "      <td>31</td>\n",
       "      <td>1.97</td>\n",
       "      <td>141.19</td>\n",
       "      <td>36.45</td>\n",
       "      <td>obese</td>\n",
       "    </tr>\n",
       "    <tr>\n",
       "      <th>3</th>\n",
       "      <td>52</td>\n",
       "      <td>2.07</td>\n",
       "      <td>146.50</td>\n",
       "      <td>34.08</td>\n",
       "      <td>obese</td>\n",
       "    </tr>\n",
       "    <tr>\n",
       "      <th>4</th>\n",
       "      <td>45</td>\n",
       "      <td>1.76</td>\n",
       "      <td>69.05</td>\n",
       "      <td>22.18</td>\n",
       "      <td>normal</td>\n",
       "    </tr>\n",
       "  </tbody>\n",
       "</table>\n",
       "</div>"
      ],
      "text/plain": [
       "   age  height  weight    bmi  class_\n",
       "0   18    1.70  130.51  45.39   obese\n",
       "1   71    1.70   69.30  24.04  normal\n",
       "2   31    1.97  141.19  36.45   obese\n",
       "3   52    2.07  146.50  34.08   obese\n",
       "4   45    1.76   69.05  22.18  normal"
      ]
     },
     "execution_count": 3,
     "metadata": {},
     "output_type": "execute_result"
    }
   ],
   "source": [
    "df.head()"
   ]
  },
  {
   "cell_type": "code",
   "execution_count": 4,
   "id": "681dc91f",
   "metadata": {},
   "outputs": [
    {
     "data": {
      "text/plain": [
       "age       0\n",
       "height    0\n",
       "weight    0\n",
       "bmi       0\n",
       "class_    0\n",
       "dtype: int64"
      ]
     },
     "execution_count": 4,
     "metadata": {},
     "output_type": "execute_result"
    }
   ],
   "source": [
    "df.isnull().sum()"
   ]
  },
  {
   "cell_type": "code",
   "execution_count": 5,
   "id": "186b2e68",
   "metadata": {},
   "outputs": [
    {
     "data": {
      "text/html": [
       "<div>\n",
       "<style scoped>\n",
       "    .dataframe tbody tr th:only-of-type {\n",
       "        vertical-align: middle;\n",
       "    }\n",
       "\n",
       "    .dataframe tbody tr th {\n",
       "        vertical-align: top;\n",
       "    }\n",
       "\n",
       "    .dataframe thead th {\n",
       "        text-align: right;\n",
       "    }\n",
       "</style>\n",
       "<table border=\"1\" class=\"dataframe\">\n",
       "  <thead>\n",
       "    <tr style=\"text-align: right;\">\n",
       "      <th></th>\n",
       "      <th>height</th>\n",
       "      <th>weight</th>\n",
       "      <th>bmi</th>\n",
       "    </tr>\n",
       "  </thead>\n",
       "  <tbody>\n",
       "    <tr>\n",
       "      <th>height</th>\n",
       "      <td>1.000000</td>\n",
       "      <td>-0.000836</td>\n",
       "      <td>-0.454228</td>\n",
       "    </tr>\n",
       "    <tr>\n",
       "      <th>weight</th>\n",
       "      <td>-0.000836</td>\n",
       "      <td>1.000000</td>\n",
       "      <td>0.883150</td>\n",
       "    </tr>\n",
       "    <tr>\n",
       "      <th>bmi</th>\n",
       "      <td>-0.454228</td>\n",
       "      <td>0.883150</td>\n",
       "      <td>1.000000</td>\n",
       "    </tr>\n",
       "  </tbody>\n",
       "</table>\n",
       "</div>"
      ],
      "text/plain": [
       "          height    weight       bmi\n",
       "height  1.000000 -0.000836 -0.454228\n",
       "weight -0.000836  1.000000  0.883150\n",
       "bmi    -0.454228  0.883150  1.000000"
      ]
     },
     "execution_count": 5,
     "metadata": {},
     "output_type": "execute_result"
    }
   ],
   "source": [
    "data = df[['height', 'weight', 'bmi']]\n",
    "data.corr()"
   ]
  },
  {
   "cell_type": "code",
   "execution_count": 7,
   "id": "b59ae283",
   "metadata": {},
   "outputs": [],
   "source": [
    "X = df[['height', 'weight']]\n",
    "y = df['bmi']"
   ]
  },
  {
   "cell_type": "code",
   "execution_count": 8,
   "id": "8e85294a",
   "metadata": {},
   "outputs": [
    {
     "name": "stdout",
     "output_type": "stream",
     "text": [
      "   height  weight\n",
      "0    1.70  130.51\n",
      "1    1.70   69.30\n",
      "2    1.97  141.19\n",
      "3    2.07  146.50\n",
      "4    1.76   69.05\n",
      "\n",
      "\n",
      "0    45.39\n",
      "1    24.04\n",
      "2    36.45\n",
      "3    34.08\n",
      "4    22.18\n",
      "Name: bmi, dtype: float64\n"
     ]
    }
   ],
   "source": [
    "print(X.head())\n",
    "print(\"\\n\")\n",
    "print(y.head())\n"
   ]
  },
  {
   "cell_type": "code",
   "execution_count": 12,
   "id": "194e893b",
   "metadata": {},
   "outputs": [],
   "source": [
    "# importing train test split library to split the data into training and test sets\n",
    "from sklearn.model_selection import train_test_split\n",
    "# split the dataset into training and test sets\n",
    "X_train, X_test, y_train, y_test = train_test_split(X, y,test_size=0.2,random_state = 42)\n",
    "#Standardise the dataset (you can also use StandardScaler)\n",
    "from sklearn.preprocessing import MinMaxScaler\n",
    "scaler = MinMaxScaler()\n",
    "X_train=scaler.fit_transform(X_train)\n",
    "X_test=scaler.transform(X_test)"
   ]
  },
  {
   "cell_type": "code",
   "execution_count": 13,
   "id": "4955a1c8",
   "metadata": {},
   "outputs": [
    {
     "data": {
      "text/plain": [
       "array([[0.58536585, 0.82544444],\n",
       "       [0.87804878, 0.66222222],\n",
       "       [0.70731707, 0.74355556],\n",
       "       ...,\n",
       "       [0.80487805, 0.06577778],\n",
       "       [0.        , 0.01144444],\n",
       "       [0.70731707, 0.74544444]])"
      ]
     },
     "execution_count": 13,
     "metadata": {},
     "output_type": "execute_result"
    }
   ],
   "source": [
    "X_train"
   ]
  },
  {
   "cell_type": "code",
   "execution_count": 15,
   "id": "79d2ce2b",
   "metadata": {},
   "outputs": [
    {
     "name": "stdout",
     "output_type": "stream",
     "text": [
      "Collecting keras\n",
      "  Downloading keras-2.12.0-py2.py3-none-any.whl (1.7 MB)\n",
      "     ---------------------------------------- 0.0/1.7 MB ? eta -:--:--\n",
      "     ---- ----------------------------------- 0.2/1.7 MB 6.1 MB/s eta 0:00:01\n",
      "     --------- ------------------------------ 0.4/1.7 MB 5.3 MB/s eta 0:00:01\n",
      "     --------------- ------------------------ 0.7/1.7 MB 5.2 MB/s eta 0:00:01\n",
      "     -------------------- ------------------- 0.9/1.7 MB 5.2 MB/s eta 0:00:01\n",
      "     ------------------------- -------------- 1.1/1.7 MB 5.0 MB/s eta 0:00:01\n",
      "     ------------------------------ --------- 1.3/1.7 MB 5.0 MB/s eta 0:00:01\n",
      "     ---------------------------------- ----- 1.5/1.7 MB 4.7 MB/s eta 0:00:01\n",
      "     -------------------------------------- - 1.7/1.7 MB 4.6 MB/s eta 0:00:01\n",
      "     ---------------------------------------  1.7/1.7 MB 4.4 MB/s eta 0:00:01\n",
      "     ---------------------------------------- 1.7/1.7 MB 4.2 MB/s eta 0:00:00\n",
      "Installing collected packages: keras\n",
      "Successfully installed keras-2.12.0\n",
      "Note: you may need to restart the kernel to use updated packages.\n"
     ]
    }
   ],
   "source": [
    "pip install keras"
   ]
  },
  {
   "cell_type": "code",
   "execution_count": 19,
   "id": "0e73e0ea",
   "metadata": {},
   "outputs": [
    {
     "name": "stdout",
     "output_type": "stream",
     "text": [
      "^C\n",
      "Note: you may need to restart the kernel to use updated packages.\n"
     ]
    }
   ],
   "source": [
    "pip install tensorflow"
   ]
  },
  {
   "cell_type": "code",
   "execution_count": 1,
   "id": "5ed5d9a1",
   "metadata": {},
   "outputs": [],
   "source": [
    "from keras.models import Sequential\n",
    "# Dense indicates fully-connected networks and the dropout\n",
    "from keras.layers import Dense, Dropout\n",
    "# It is used as a loss function during model training\n",
    "from keras.losses import mean_squared_error\n",
    "# adopting stochastic gradient descent to optimise weights\n",
    "from keras.optimizers import SGD\n",
    "# It is used to evaluate the model's performance during training and/or validation\n",
    "from keras.metrics import mean_squared_error"
   ]
  },
  {
   "cell_type": "code",
   "execution_count": 2,
   "id": "515d09e9",
   "metadata": {},
   "outputs": [],
   "source": [
    "# instantiating and building the neural network model\n",
    "model = Sequential()\n",
    "#Input layer with 2 units (input_dim=2).\n",
    "#First hidden layer with 64 units and ReLU activation function.\n",
    "model.add(Dense(units=64,input_dim=(2), activation = 'relu'))\n",
    "#Dropout layer with 20% dropout rate (helps to prevent overfitting by randomly dropping\n",
    "#(i.e. setting to zero) a fraction of the input units during training.\n",
    "model.add(Dropout(0.2))\n",
    "#Second hidden layer with 64 units and ReLU activation function.\n",
    "#Output layer with 1 unit and linear activation function.\n",
    "model.add(Dense(units=64,activation='relu'))\n",
    "#The linear activation function is used in the output layer because\n",
    "#the task is a regression problem (predicting a continuous output variable).\n",
    "model.add(Dense(units=1,activation = 'linear'))"
   ]
  },
  {
   "cell_type": "code",
   "execution_count": 3,
   "id": "a4d77f02",
   "metadata": {},
   "outputs": [
    {
     "name": "stdout",
     "output_type": "stream",
     "text": [
      "Model: \"sequential\"\n",
      "_________________________________________________________________\n",
      " Layer (type)                Output Shape              Param #   \n",
      "=================================================================\n",
      " dense (Dense)               (None, 64)                192       \n",
      "                                                                 \n",
      " dropout (Dropout)           (None, 64)                0         \n",
      "                                                                 \n",
      " dense_1 (Dense)             (None, 64)                4160      \n",
      "                                                                 \n",
      " dense_2 (Dense)             (None, 1)                 65        \n",
      "                                                                 \n",
      "=================================================================\n",
      "Total params: 4,417\n",
      "Trainable params: 4,417\n",
      "Non-trainable params: 0\n",
      "_________________________________________________________________\n"
     ]
    }
   ],
   "source": [
    "model.summary()"
   ]
  },
  {
   "cell_type": "code",
   "execution_count": null,
   "id": "07b7a658",
   "metadata": {},
   "outputs": [],
   "source": []
  },
  {
   "cell_type": "code",
   "execution_count": null,
   "id": "f6430195",
   "metadata": {},
   "outputs": [],
   "source": []
  },
  {
   "cell_type": "code",
   "execution_count": null,
   "id": "88a355ba",
   "metadata": {},
   "outputs": [],
   "source": []
  },
  {
   "cell_type": "code",
   "execution_count": null,
   "id": "88c837fd",
   "metadata": {},
   "outputs": [],
   "source": []
  },
  {
   "cell_type": "code",
   "execution_count": null,
   "id": "80d8b422",
   "metadata": {},
   "outputs": [],
   "source": []
  },
  {
   "cell_type": "code",
   "execution_count": null,
   "id": "5e9ae0b0",
   "metadata": {},
   "outputs": [],
   "source": []
  },
  {
   "cell_type": "code",
   "execution_count": null,
   "id": "a7620594",
   "metadata": {},
   "outputs": [],
   "source": []
  }
 ],
 "metadata": {
  "kernelspec": {
   "display_name": "Python 3 (ipykernel)",
   "language": "python",
   "name": "python3"
  },
  "language_info": {
   "codemirror_mode": {
    "name": "ipython",
    "version": 3
   },
   "file_extension": ".py",
   "mimetype": "text/x-python",
   "name": "python",
   "nbconvert_exporter": "python",
   "pygments_lexer": "ipython3",
   "version": "3.11.1"
  }
 },
 "nbformat": 4,
 "nbformat_minor": 5
}
