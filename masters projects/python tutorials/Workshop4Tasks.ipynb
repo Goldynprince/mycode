{
 "cells": [
  {
   "cell_type": "code",
   "execution_count": 27,
   "id": "62e1ae74",
   "metadata": {},
   "outputs": [],
   "source": [
    "import json\n",
    "import seaborn as sns\n",
    "import csv\n",
    "import pandas as pd\n",
    "import random"
   ]
  },
  {
   "cell_type": "markdown",
   "id": "b5e47f04",
   "metadata": {},
   "source": [
    "# Programming for AI & Data Science\n",
    "# Workshop 4\n",
    "## 699795"
   ]
  },
  {
   "cell_type": "markdown",
   "id": "189ad123",
   "metadata": {},
   "source": [
    "# Programming for AI & Data Science\n",
    "# Workshop 4\n",
    "## Pandas, Seaborn, and Misc\n",
    "\n",
    "### Aims of the workshop\n",
    "Last week we looked at File IO: Opening raw files, reading and writing to them with context managers, and more importantly how we can use the CSV and JSON libraries to read/write File Formats for various purposes. In addition, we briefly explored Numpy as a foundational data structure for numerical computing.\n",
    "\n",
    "\n",
    "This workshop will explore the Pandas and Seaborn library for Data Analysis and Visualisation. Whilst we won’t be covering everything there is to cover with Pandas ( a lot! ), we can at least begin to utilise it to load in data, and initially explore it. As Seaborn is built on-top of Pandas, that is to say it understands the Dataframe and Series objects from Pandas, we can pass those new objects in to create rich and robust visualisations without worrying about implementation specific details. We will be utilising a lot of concepts which we’ve covered previously, combining them to achieve these visualisations. Along the way we’ll also introduce some miscellaneous concepts which you should now be able to understand, which didn’t exactly fit anywhere before.\n",
    "\n",
    "Please see ‘Useful Information’ below on how to lookup certain Python functionality. The concept behind this workshop is about discovery, and experimentation surrounding topics covered so far.\n",
    "\n",
    "Feel free to discuss the work with peers, or with any member of the teaching staff.\n",
    "\n",
    "----\n",
    "\n",
    "## Pandas\n",
    "As always, we should save workshop session in a Notebook. Name it something memorable, such as “Workshop 4”."
   ]
  },
  {
   "cell_type": "markdown",
   "id": "59ede51d",
   "metadata": {},
   "source": [
    "### Exercise 1:\n",
    "You may need to install pandas. If you receive a `ModuleNotFound` error at any point, this indicates the library isn’t installed. You can install this via command-prompt by executing the following: \n",
    "```\n",
    "pip install pandas.\n",
    "```\n",
    "If the library is already installed, but you want a newer version, you can pass `--upgrade` flag to the command. This might be useful.\n",
    "\n",
    "E.g.\n",
    "```\n",
    "pip install pandas --upgrade.\n",
    "```\n",
    "Note: If you get Permission Denied. Try adding the `--user` flag as well.\n",
    "\n",
    "You can obtain a list of installed python packages/libraries by using:\n",
    "```\n",
    "pip list\n",
    "```\n",
    "This will also provide a list of versions as well. The output should look similar to the following.\n",
    "```\n",
    "C:\\Users\\Brian>pip list\n",
    "Package             Version\n",
    "------------------- -------\n",
    "argon2-cffi         20.1.0\n",
    "attrs               21.2.0\n",
    "backcall            0.2.0\n",
    "bleach              4.0.0\n",
    "cffi                1.14.6\n",
    "colorama            0.4.4\n",
    "debugpy             1.4.1\n",
    "decorator           5.0.9\n",
    "```\n",
    "If we wanted to install a specific version of a library we could do something like the following:\n",
    "```\n",
    "pip install pandas==0.25.3\n",
    "``` \n",
    "### Requirements files\n",
    "When dealing with Python projects, we might be using several libraries. It might be important that these have specific versions too. When we give our Projects or notebook files we need a way to communicate what libraries we’re using, and what their versions are.\n",
    "\n",
    "Python has a solution to this called the __requirements.txt__ file. It is a list of python packages and their associated versions.\n",
    "\n",
    "Pip supports installation from a file instead of specifying each package individually. This is done by the -r flag, and specifying the file.\n",
    "```\n",
    "pip install -r requirements.txt\n",
    "```\n",
    "An example of a requirements.txt file might look like the following:\n",
    "```\n",
    "cycler==0.10.0        \t# via matplotlib\n",
    "kiwisolver==1.2.0     \t# via matplotlib\n",
    "matplotlib==3.2.1\n",
    "numpy==1.18.5\n",
    "pandas==1.0.4\n",
    "pyparsing==2.4.7      \t# via matplotlib\n",
    "python-dateutil==2.8.1\t# via matplotlib, pandas\n",
    "pytz==2020.1          \t# via pandas\n",
    "scipy==1.4.1          \t# via seaborn\n",
    "seaborn==0.10.1\n",
    "six==1.15.0           \t# via cycler, python-dateutil\n",
    "```\n",
    "\n",
    "---"
   ]
  },
  {
   "cell_type": "code",
   "execution_count": 1,
   "id": "b96154bb",
   "metadata": {},
   "outputs": [
    {
     "name": "stdout",
     "output_type": "stream",
     "text": [
      "Requirement already satisfied: pandas in c:\\users\\gbadamosi\\appdata\\local\\programs\\python\\python311\\lib\\site-packages (1.5.3)\n",
      "Requirement already satisfied: python-dateutil>=2.8.1 in c:\\users\\gbadamosi\\appdata\\local\\programs\\python\\python311\\lib\\site-packages (from pandas) (2.8.2)\n",
      "Requirement already satisfied: pytz>=2020.1 in c:\\users\\gbadamosi\\appdata\\local\\programs\\python\\python311\\lib\\site-packages (from pandas) (2022.7.1)\n",
      "Requirement already satisfied: numpy>=1.21.0 in c:\\users\\gbadamosi\\appdata\\local\\programs\\python\\python311\\lib\\site-packages (from pandas) (1.24.2)\n",
      "Requirement already satisfied: six>=1.5 in c:\\users\\gbadamosi\\appdata\\local\\programs\\python\\python311\\lib\\site-packages (from python-dateutil>=2.8.1->pandas) (1.16.0)\n",
      "Note: you may need to restart the kernel to use updated packages.\n"
     ]
    }
   ],
   "source": [
    "pip install pandas"
   ]
  },
  {
   "cell_type": "code",
   "execution_count": 2,
   "id": "5c7017e9",
   "metadata": {},
   "outputs": [
    {
     "name": "stdout",
     "output_type": "stream",
     "text": [
      "Requirement already satisfied: pandas in c:\\users\\gbadamosi\\appdata\\local\\programs\\python\\python311\\lib\\site-packages (1.5.3)\n",
      "Requirement already satisfied: python-dateutil>=2.8.1 in c:\\users\\gbadamosi\\appdata\\local\\programs\\python\\python311\\lib\\site-packages (from pandas) (2.8.2)\n",
      "Requirement already satisfied: pytz>=2020.1 in c:\\users\\gbadamosi\\appdata\\local\\programs\\python\\python311\\lib\\site-packages (from pandas) (2022.7.1)\n",
      "Requirement already satisfied: numpy>=1.21.0 in c:\\users\\gbadamosi\\appdata\\local\\programs\\python\\python311\\lib\\site-packages (from pandas) (1.24.2)\n",
      "Requirement already satisfied: six>=1.5 in c:\\users\\gbadamosi\\appdata\\local\\programs\\python\\python311\\lib\\site-packages (from python-dateutil>=2.8.1->pandas) (1.16.0)\n",
      "Note: you may need to restart the kernel to use updated packages.\n"
     ]
    }
   ],
   "source": [
    "pip install pandas --upgrade"
   ]
  },
  {
   "cell_type": "code",
   "execution_count": 1,
   "id": "67a6a1b5",
   "metadata": {},
   "outputs": [
    {
     "name": "stdout",
     "output_type": "stream",
     "text": [
      "Package                  Version\n",
      "------------------------ -----------\n",
      "anaconda                 0.0.1.1\n",
      "anyio                    3.6.2\n",
      "argon2-cffi              21.3.0\n",
      "argon2-cffi-bindings     21.2.0\n",
      "arrow                    1.2.3\n",
      "asttokens                2.2.1\n",
      "attrs                    22.2.0\n",
      "backcall                 0.2.0\n",
      "beautifulsoup4           4.11.1\n",
      "bleach                   6.0.0\n",
      "cffi                     1.15.1\n",
      "colorama                 0.4.6\n",
      "comm                     0.1.2\n",
      "debugpy                  1.6.6\n",
      "decorator                5.1.1\n",
      "defusedxml               0.7.1\n",
      "executing                1.2.0\n",
      "fastjsonschema           2.16.2\n",
      "fqdn                     1.5.1\n",
      "idna                     3.4\n",
      "ipykernel                6.20.2\n",
      "ipython                  8.9.0\n",
      "ipython-genutils         0.2.0\n",
      "ipywidgets               8.0.4\n",
      "isoduration              20.11.0\n",
      "jedi                     0.18.2\n",
      "Jinja2                   3.1.2\n",
      "jsonpointer              2.3\n",
      "jsonschema               4.17.3\n",
      "jupyter                  1.0.0\n",
      "jupyter_client           8.0.1\n",
      "jupyter-console          6.4.4\n",
      "jupyter_core             5.1.5\n",
      "jupyter-events           0.6.3\n",
      "jupyter_server           2.1.0\n",
      "jupyter_server_terminals 0.4.4\n",
      "jupyterlab-pygments      0.2.2\n",
      "jupyterlab-widgets       3.0.5\n",
      "MarkupSafe               2.1.2\n",
      "matplotlib-inline        0.1.6\n",
      "mistune                  2.0.4\n",
      "nbclassic                0.5.1\n",
      "nbclient                 0.7.2\n",
      "nbconvert                7.2.9\n",
      "nbformat                 5.7.3\n",
      "nest-asyncio             1.5.6\n",
      "notebook                 6.5.2\n",
      "notebook_shim            0.2.2\n",
      "numpy                    1.24.2\n",
      "packaging                23.0\n",
      "pandas                   1.5.3\n",
      "pandocfilters            1.5.0\n",
      "parso                    0.8.3\n",
      "pickleshare              0.7.5\n",
      "pip                      23.0.1\n",
      "platformdirs             2.6.2\n",
      "prometheus-client        0.16.0\n",
      "prompt-toolkit           3.0.36\n",
      "psutil                   5.9.4\n",
      "pure-eval                0.2.2\n",
      "pycparser                2.21\n",
      "Pygments                 2.14.0\n",
      "pyrsistent               0.19.3\n",
      "python-dateutil          2.8.2\n",
      "python-json-logger       2.0.4\n",
      "pytz                     2022.7.1\n",
      "pywin32                  305\n",
      "pywinpty                 2.0.10\n",
      "PyYAML                   6.0\n",
      "pyzmq                    25.0.0\n",
      "qtconsole                5.4.0\n",
      "QtPy                     2.3.0\n",
      "rfc3339-validator        0.1.4\n",
      "rfc3986-validator        0.1.1\n",
      "Send2Trash               1.8.0\n",
      "setuptools               65.5.0\n",
      "six                      1.16.0\n",
      "sniffio                  1.3.0\n",
      "soupsieve                2.3.2.post1\n",
      "stack-data               0.6.2\n",
      "terminado                0.17.1\n",
      "tinycss2                 1.2.1\n",
      "tornado                  6.2\n",
      "traitlets                5.8.1\n",
      "uri-template             1.2.0\n",
      "wcwidth                  0.2.6\n",
      "webcolors                1.12\n",
      "webencodings             0.5.1\n",
      "websocket-client         1.5.0\n",
      "widgetsnbextension       4.0.5\n",
      "Note: you may need to restart the kernel to use updated packages.\n"
     ]
    }
   ],
   "source": [
    "pip list"
   ]
  },
  {
   "cell_type": "code",
   "execution_count": 12,
   "id": "148ba89d",
   "metadata": {},
   "outputs": [
    {
     "name": "stdout",
     "output_type": "stream",
     "text": [
      "Note: you may need to restart the kernel to use updated packages.\n"
     ]
    }
   ],
   "source": [
    "pip install -r requirements.txt"
   ]
  },
  {
   "cell_type": "markdown",
   "id": "3cf046da",
   "metadata": {},
   "source": [
    "---\n",
    "### Exercise 2\n",
    "Take your __duck_collection.json__ from last week, and load this file in. Using the JSON library, interpret this file so that you get a List of Dictionaries back. Remember if you need to import a library, try grouping them at the top of the Notebook, as the first cell.\n",
    "\n",
    "```\n",
    "ducks\n",
    "```\n",
    "> [{'first_name': 'Davey',  \n",
    "  'last_name': 'McDuck',  \n",
    "  'location': \"Rob's Office\",  \n",
    "  'insane': True,  \n",
    "  'followers': 12865,  \n",
    "  'following': 120,  \n",
    "  'weapons': ['wit', 'steely stare', 'devilish good looks'],  \n",
    "  'remorse': None},  \n",
    " {'first_name': 'Jim',  \n",
    "  'last_name': 'Bob',  \n",
    "  'location': 'Turing Lab',  \n",
    "  'insane': False,\n",
    "  'followers': 123,  \n",
    "  'following': 5000,  \n",
    "  'weapons': ['squeak'],  \n",
    "  'remorse': None},  \n",
    " {'first_name': 'Celest',  \n",
    "  'last_name': '',  \n",
    "  'location': 'Throne Room',\n",
    "  \n",
    "\n",
    "---"
   ]
  },
  {
   "cell_type": "code",
   "execution_count": 7,
   "id": "eec1d983",
   "metadata": {},
   "outputs": [
    {
     "name": "stdout",
     "output_type": "stream",
     "text": [
      "[{'first_name': 'Davey', 'last_name': 'McDuck', 'location': \"Rob's Office\", 'insane': True, 'followers': 12865, 'following': 120, 'weapons': ['wit', 'steely stare', 'devilish good looks'], 'remorse': None}, {'first_name': 'Jim', 'last_name': 'Bob', 'location': 'Turing Lab', 'insane': False, 'followers': 123, 'following': 5000, 'weapons': ['squeak'], 'remorse': None}, {'first_name': 'Celest', 'last_name': '', 'location': 'Throne Room', 'insane': True, 'followers': 40189, 'following': 1, 'weapons': ['politics', 'dance moves', 'chess grandmaster', 'immortality']}]\n"
     ]
    }
   ],
   "source": [
    "with open('duck_collection.json', mode='r') as duck_collection:\n",
    "    W4_duckfile= json.load(duck_collection)\n",
    "print(W4_duckfile)"
   ]
  },
  {
   "cell_type": "markdown",
   "id": "4c1481a6",
   "metadata": {},
   "source": [
    "---\n",
    "## Sorting with basic and more complex data types\n",
    "### Exercise 3\n",
    "Python has a built-in function called sorted which we can use to sort collections, such as Lists and Dictionaries.\n",
    "\n",
    "If we take some List of numbers, sorted will return them in ascending order.\n",
    "```\n",
    "some_number = [ 3, 1, 2, 7, 9, 4, 10 ]\n",
    "print( sorted(some_number) )\n",
    "```\n",
    "Additionally, sorted has a number of optional parameters we can pass in. One such parameter is defined as reverse, which allows us to go in descending order instead.\n",
    "```\n",
    "print( sorted(some_number, reverse=True) )\n",
    "```\n",
    "This works well for simple collections such as Lists, where the ‘<’ operator is defined between data elements. In our list example, each element here is an integer. And we know that int < int makes sense semantically.\n",
    "\n",
    "---"
   ]
  },
  {
   "cell_type": "code",
   "execution_count": 3,
   "id": "b2696b6d",
   "metadata": {},
   "outputs": [
    {
     "name": "stdout",
     "output_type": "stream",
     "text": [
      "[1, 2, 3, 4, 7, 9, 10, 20, 50, 100]\n"
     ]
    }
   ],
   "source": [
    "group_of_num = [ 3, 1, 2, 7, 9, 4, 10, 50, 20, 100 ]\n",
    "print( sorted(group_of_num) )"
   ]
  },
  {
   "cell_type": "code",
   "execution_count": 4,
   "id": "3df1d883",
   "metadata": {},
   "outputs": [
    {
     "name": "stdout",
     "output_type": "stream",
     "text": [
      "[100, 50, 20, 10, 9, 7, 4, 3, 2, 1]\n"
     ]
    }
   ],
   "source": [
    "print( sorted(group_of_num, reverse=True) )"
   ]
  },
  {
   "cell_type": "markdown",
   "id": "a8ce59cc",
   "metadata": {},
   "source": [
    "---\n",
    "### Exercise 4\n",
    "Our issue comes when wanting to sort more complex data structures. By default Python checks if the < operator is defined. However, for our duck collection we just read in, each element in that list is a dictionary (representing a duck).\n",
    "\n",
    "Let’s try sorting this:\n",
    "```\n",
    "print( sorted(ducks) )\n",
    "```\n",
    "```\n",
    "---------------------------------------------------------------------------\n",
    "TypeError                                 Traceback (most recent call last)\n",
    "~\\AppData\\Local\\Temp/ipykernel_15912/2449917408.py in <module>\n",
    "     17 'last_name': '',\n",
    "     18 'location': 'Throne Room'}]\n",
    "---> 19 print( sorted(ducks) )\n",
    "\n",
    "TypeError: '<' not supported between instances of 'dict' and 'dict'\n",
    "\n",
    "```\n",
    "This is a problem. Thankfully sorted is clever, and allows us to provide a means to tell the function HOW to compare the two entries.\n",
    "\n",
    "We can provide a function to the key parameter of the sorted function. From previous workshops we know that functions are first-class data objects. We can pass them around just like we can with integers and strings and any other fundamental data type.\n",
    "\n",
    "We need to define a function which accepts the element to compare, in our case this is a dictionary, and return the actual value to be compared against.\n",
    "\n",
    "Example:\n",
    "```\n",
    "def comp_ducks( d ):\n",
    "\treturn d['first_name']\n",
    "\n",
    "sorted( ducks, key=comp_ducks )\n",
    "```\n",
    "We can make a function, accepting a dictionary (our `duck`), and returning a specific value from said duck which will have the < operator defined. If we wanted to sort our ducks based on their `first_name` this is how we would do so. In essence, we are telling Python what key to sort on, rather than it assuming it’s the dictionary as a whole!\n",
    "\n",
    "> [{'first_name': 'Celest',  \n",
    "'last_name': '',  \n",
    "'location': 'Throne Room',  \n",
    "'insane': True,  \n",
    "'followers': 40189,  \n",
    "'following': 1,  \n",
    "'weapons': ['politics', 'dance moves', 'chess grandmaster', 'immortality']},  \n",
    "{'first_name': 'Davey',  \n",
    "'last_name': 'McDuck',  \n",
    "'location': \"Rob's Office\",  \n",
    "'insane': True,  \n",
    "'followers': 12865,  \n",
    "'following': 120,  \n",
    "'weapons': ['wit', 'steely stare', 'devilish good looks'],  \n",
    "'remorse': None},  \n",
    "{'first_name': 'Jim',  \n",
    "'last_name': 'Bob',  \n",
    "'location': 'Turing Lab',  \n",
    "'insane': False, 'followers': 123,  \n",
    "'following': 5000,  \n",
    "'weapons': ['squeak'],  \n",
    "'remorse': None},\n",
    "\n",
    "\n",
    "You can now see that Celest is first, then Davey, then Jim. Alphabetical order, just as we would expect.\n",
    "\n",
    "Note: We can make this syntactically simpler, by use of a `lambda` function. These are a one-time use kind of function, which just means we don’t need to define them in the global scope and clutter things and come up with names. They are inherently nameless.\n",
    "```\n",
    "sorted( ducks, key=lambda d: d['first_name'] )\n",
    "```\n",
    "Same thing, takes an input and returns the value at the key `‘first_name’`. If I wanted to sort on a different member of our dictionary, I can put the key there.\n",
    "\n",
    "E.g.\n",
    "```\n",
    "sorted( ducks, key=lambda d: d['followers'] )\n",
    "```\n",
    "Or modify the function before:\n",
    "```\n",
    "def comp_ducks( d ):\n",
    "\treturn d['followers']\n",
    "\n",
    "sorted( ducks, key=comp_ducks )\n",
    "```\n",
    "Standard convention here is to use the `lambda` approach; however, either way works. If you try the new followers key sorting, you should obtain Jim, Davey, then Celeste.\n",
    "\n",
    "---"
   ]
  },
  {
   "cell_type": "code",
   "execution_count": 8,
   "id": "8cced364",
   "metadata": {},
   "outputs": [
    {
     "ename": "TypeError",
     "evalue": "'<' not supported between instances of 'dict' and 'dict'",
     "output_type": "error",
     "traceback": [
      "\u001b[1;31m---------------------------------------------------------------------------\u001b[0m",
      "\u001b[1;31mTypeError\u001b[0m                                 Traceback (most recent call last)",
      "Cell \u001b[1;32mIn[8], line 1\u001b[0m\n\u001b[1;32m----> 1\u001b[0m \u001b[38;5;28mprint\u001b[39m( \u001b[38;5;28;43msorted\u001b[39;49m\u001b[43m(\u001b[49m\u001b[43mW4_duckfile\u001b[49m\u001b[43m)\u001b[49m )\n",
      "\u001b[1;31mTypeError\u001b[0m: '<' not supported between instances of 'dict' and 'dict'"
     ]
    }
   ],
   "source": [
    "print( sorted(W4_duckfile) )"
   ]
  },
  {
   "cell_type": "code",
   "execution_count": 9,
   "id": "dbf31618",
   "metadata": {
    "scrolled": true
   },
   "outputs": [
    {
     "data": {
      "text/plain": [
       "[{'first_name': 'Celest',\n",
       "  'last_name': '',\n",
       "  'location': 'Throne Room',\n",
       "  'insane': True,\n",
       "  'followers': 40189,\n",
       "  'following': 1,\n",
       "  'weapons': ['politics', 'dance moves', 'chess grandmaster', 'immortality']},\n",
       " {'first_name': 'Davey',\n",
       "  'last_name': 'McDuck',\n",
       "  'location': \"Rob's Office\",\n",
       "  'insane': True,\n",
       "  'followers': 12865,\n",
       "  'following': 120,\n",
       "  'weapons': ['wit', 'steely stare', 'devilish good looks'],\n",
       "  'remorse': None},\n",
       " {'first_name': 'Jim',\n",
       "  'last_name': 'Bob',\n",
       "  'location': 'Turing Lab',\n",
       "  'insane': False,\n",
       "  'followers': 123,\n",
       "  'following': 5000,\n",
       "  'weapons': ['squeak'],\n",
       "  'remorse': None}]"
      ]
     },
     "execution_count": 9,
     "metadata": {},
     "output_type": "execute_result"
    }
   ],
   "source": [
    "def comp_ducks( d ):\n",
    "    return d['first_name']\n",
    "\n",
    "sorted( W4_duckfile, key=comp_ducks )"
   ]
  },
  {
   "cell_type": "code",
   "execution_count": 25,
   "id": "78d42802",
   "metadata": {},
   "outputs": [
    {
     "data": {
      "text/plain": [
       "[{'first_name': 'Celest',\n",
       "  'last_name': '',\n",
       "  'location': 'Throne Room',\n",
       "  'insane': True,\n",
       "  'followers': 40189,\n",
       "  'following': 1,\n",
       "  'weapons': ['politics', 'dance moves', 'chess grandmaster', 'immortality']},\n",
       " {'first_name': 'Davey',\n",
       "  'last_name': 'McDuck',\n",
       "  'location': \"Rob's Office\",\n",
       "  'insane': True,\n",
       "  'followers': 12865,\n",
       "  'following': 120,\n",
       "  'weapons': ['wit', 'steely stare', 'devilish good looks'],\n",
       "  'remorse': None},\n",
       " {'first_name': 'Jim',\n",
       "  'last_name': 'Bob',\n",
       "  'location': 'Turing Lab',\n",
       "  'insane': False,\n",
       "  'followers': 123,\n",
       "  'following': 5000,\n",
       "  'weapons': ['squeak'],\n",
       "  'remorse': None}]"
      ]
     },
     "execution_count": 25,
     "metadata": {},
     "output_type": "execute_result"
    }
   ],
   "source": [
    "sorted( W4_duckfile, key=lambda d: d['first_name'] )"
   ]
  },
  {
   "cell_type": "markdown",
   "id": "8db2a98d",
   "metadata": {},
   "source": [
    "---\n",
    "## Titanic Dataset\n",
    "### Exercise 5\n",
    "On canvas, you will find a dataset included. We will be using this for some initial analysis and visualisation with Pandas Seaborn.\n",
    "\n",
    "Download __titanic.csv__, and put it in the same folder as your notebook. Just as you have done with previous data files. This dataset is a bit more complicated than what we looked at in the lectures this week. This is a Dataset about passengers on the Titanic, including whether they survived the sinking. For this module, I have modified the dataset for you to remove some tricky issues.\n",
    "\n",
    "---"
   ]
  },
  {
   "cell_type": "markdown",
   "id": "a2331088",
   "metadata": {},
   "source": [
    "---\n",
    "### Exercise 6\n",
    "Using the `read_csv` function, read in the __titanic.csv__ file. This function accepts a string, as the filepath. Pandas will handle all the necessary file opening, reading, interpreting, and closing for you. \n",
    "\n",
    "The return of this function should be a Dataframe object. This is one of the custom Types which Pandas provides for us.\n",
    "\n",
    "1.\tRead in the Titanic CSV file\n",
    "2.\tVerify that it is of type `pandas.core.frame.DataFrame`\n",
    "\n",
    "```\n",
    "\tPassengerId\tSurvived\tPclass\tName\tSex\tAge\tSibSp\tParch\tTicket\tFare\tCabin\tEmbarked\n",
    "0\t1\t0\t3\tBraund, Mr. Owen Harris\tmale\t22.0\t1\t0\tA/5 21171\t7.2500\tA001\tS\n",
    "1\t2\t1\t1\tCumings, Mrs. John Bradley (Florence Briggs Th...\tfemale\t38.0\t1\t0\tPC 17599\t71.2833\tC85\tC\n",
    "2\t3\t1\t3\tHeikkinen, Miss. Laina\tfemale\t26.0\t0\t0\tSTON/O2. 3101282\t7.9250\tC85\tS\n",
    "3\t4\t1\t1\tFutrelle, Mrs. Jacques Heath (Lily May Peel)\tfemale\t35.0\t1\t0\t113803\t53.1000\tC123\tS\n",
    "4\t5\t0\t3\tAllen, Mr. William Henry\tmale\t35.0\t0\t0\t373450\t8.0500\tC123\tS\n",
    "```\n",
    "\n",
    "> <class 'pandas.core.frame.DataFrame'>\n",
    "\n",
    "---"
   ]
  },
  {
   "cell_type": "code",
   "execution_count": 10,
   "id": "76574cb5",
   "metadata": {
    "scrolled": true
   },
   "outputs": [
    {
     "data": {
      "text/html": [
       "<div>\n",
       "<style scoped>\n",
       "    .dataframe tbody tr th:only-of-type {\n",
       "        vertical-align: middle;\n",
       "    }\n",
       "\n",
       "    .dataframe tbody tr th {\n",
       "        vertical-align: top;\n",
       "    }\n",
       "\n",
       "    .dataframe thead th {\n",
       "        text-align: right;\n",
       "    }\n",
       "</style>\n",
       "<table border=\"1\" class=\"dataframe\">\n",
       "  <thead>\n",
       "    <tr style=\"text-align: right;\">\n",
       "      <th></th>\n",
       "      <th>PassengerId</th>\n",
       "      <th>Survived</th>\n",
       "      <th>Pclass</th>\n",
       "      <th>Name</th>\n",
       "      <th>Sex</th>\n",
       "      <th>Age</th>\n",
       "      <th>SibSp</th>\n",
       "      <th>Parch</th>\n",
       "      <th>Ticket</th>\n",
       "      <th>Fare</th>\n",
       "      <th>Cabin</th>\n",
       "      <th>Embarked</th>\n",
       "    </tr>\n",
       "  </thead>\n",
       "  <tbody>\n",
       "    <tr>\n",
       "      <th>0</th>\n",
       "      <td>1</td>\n",
       "      <td>0</td>\n",
       "      <td>3</td>\n",
       "      <td>Braund, Mr. Owen Harris</td>\n",
       "      <td>male</td>\n",
       "      <td>22.0</td>\n",
       "      <td>1</td>\n",
       "      <td>0</td>\n",
       "      <td>A/5 21171</td>\n",
       "      <td>7.2500</td>\n",
       "      <td>A001</td>\n",
       "      <td>S</td>\n",
       "    </tr>\n",
       "    <tr>\n",
       "      <th>1</th>\n",
       "      <td>2</td>\n",
       "      <td>1</td>\n",
       "      <td>1</td>\n",
       "      <td>Cumings, Mrs. John Bradley (Florence Briggs Th...</td>\n",
       "      <td>female</td>\n",
       "      <td>38.0</td>\n",
       "      <td>1</td>\n",
       "      <td>0</td>\n",
       "      <td>PC 17599</td>\n",
       "      <td>71.2833</td>\n",
       "      <td>C85</td>\n",
       "      <td>C</td>\n",
       "    </tr>\n",
       "    <tr>\n",
       "      <th>2</th>\n",
       "      <td>3</td>\n",
       "      <td>1</td>\n",
       "      <td>3</td>\n",
       "      <td>Heikkinen, Miss. Laina</td>\n",
       "      <td>female</td>\n",
       "      <td>26.0</td>\n",
       "      <td>0</td>\n",
       "      <td>0</td>\n",
       "      <td>STON/O2. 3101282</td>\n",
       "      <td>7.9250</td>\n",
       "      <td>C85</td>\n",
       "      <td>S</td>\n",
       "    </tr>\n",
       "    <tr>\n",
       "      <th>3</th>\n",
       "      <td>4</td>\n",
       "      <td>1</td>\n",
       "      <td>1</td>\n",
       "      <td>Futrelle, Mrs. Jacques Heath (Lily May Peel)</td>\n",
       "      <td>female</td>\n",
       "      <td>35.0</td>\n",
       "      <td>1</td>\n",
       "      <td>0</td>\n",
       "      <td>113803</td>\n",
       "      <td>53.1000</td>\n",
       "      <td>C123</td>\n",
       "      <td>S</td>\n",
       "    </tr>\n",
       "    <tr>\n",
       "      <th>4</th>\n",
       "      <td>5</td>\n",
       "      <td>0</td>\n",
       "      <td>3</td>\n",
       "      <td>Allen, Mr. William Henry</td>\n",
       "      <td>male</td>\n",
       "      <td>35.0</td>\n",
       "      <td>0</td>\n",
       "      <td>0</td>\n",
       "      <td>373450</td>\n",
       "      <td>8.0500</td>\n",
       "      <td>C123</td>\n",
       "      <td>S</td>\n",
       "    </tr>\n",
       "    <tr>\n",
       "      <th>...</th>\n",
       "      <td>...</td>\n",
       "      <td>...</td>\n",
       "      <td>...</td>\n",
       "      <td>...</td>\n",
       "      <td>...</td>\n",
       "      <td>...</td>\n",
       "      <td>...</td>\n",
       "      <td>...</td>\n",
       "      <td>...</td>\n",
       "      <td>...</td>\n",
       "      <td>...</td>\n",
       "      <td>...</td>\n",
       "    </tr>\n",
       "    <tr>\n",
       "      <th>886</th>\n",
       "      <td>887</td>\n",
       "      <td>0</td>\n",
       "      <td>2</td>\n",
       "      <td>Montvila, Rev. Juozas</td>\n",
       "      <td>male</td>\n",
       "      <td>27.0</td>\n",
       "      <td>0</td>\n",
       "      <td>0</td>\n",
       "      <td>211536</td>\n",
       "      <td>13.0000</td>\n",
       "      <td>C50</td>\n",
       "      <td>S</td>\n",
       "    </tr>\n",
       "    <tr>\n",
       "      <th>887</th>\n",
       "      <td>888</td>\n",
       "      <td>1</td>\n",
       "      <td>1</td>\n",
       "      <td>Graham, Miss. Margaret Edith</td>\n",
       "      <td>female</td>\n",
       "      <td>19.0</td>\n",
       "      <td>0</td>\n",
       "      <td>0</td>\n",
       "      <td>112053</td>\n",
       "      <td>30.0000</td>\n",
       "      <td>B42</td>\n",
       "      <td>S</td>\n",
       "    </tr>\n",
       "    <tr>\n",
       "      <th>888</th>\n",
       "      <td>889</td>\n",
       "      <td>0</td>\n",
       "      <td>3</td>\n",
       "      <td>Johnston, Miss. Catherine Helen \"Carrie\"</td>\n",
       "      <td>female</td>\n",
       "      <td>19.0</td>\n",
       "      <td>1</td>\n",
       "      <td>2</td>\n",
       "      <td>W./C. 6607</td>\n",
       "      <td>23.4500</td>\n",
       "      <td>B42</td>\n",
       "      <td>S</td>\n",
       "    </tr>\n",
       "    <tr>\n",
       "      <th>889</th>\n",
       "      <td>890</td>\n",
       "      <td>1</td>\n",
       "      <td>1</td>\n",
       "      <td>Behr, Mr. Karl Howell</td>\n",
       "      <td>male</td>\n",
       "      <td>26.0</td>\n",
       "      <td>0</td>\n",
       "      <td>0</td>\n",
       "      <td>111369</td>\n",
       "      <td>30.0000</td>\n",
       "      <td>C148</td>\n",
       "      <td>C</td>\n",
       "    </tr>\n",
       "    <tr>\n",
       "      <th>890</th>\n",
       "      <td>891</td>\n",
       "      <td>0</td>\n",
       "      <td>3</td>\n",
       "      <td>Dooley, Mr. Patrick</td>\n",
       "      <td>male</td>\n",
       "      <td>32.0</td>\n",
       "      <td>0</td>\n",
       "      <td>0</td>\n",
       "      <td>370376</td>\n",
       "      <td>7.7500</td>\n",
       "      <td>C148</td>\n",
       "      <td>Q</td>\n",
       "    </tr>\n",
       "  </tbody>\n",
       "</table>\n",
       "<p>891 rows × 12 columns</p>\n",
       "</div>"
      ],
      "text/plain": [
       "     PassengerId  Survived  Pclass  \\\n",
       "0              1         0       3   \n",
       "1              2         1       1   \n",
       "2              3         1       3   \n",
       "3              4         1       1   \n",
       "4              5         0       3   \n",
       "..           ...       ...     ...   \n",
       "886          887         0       2   \n",
       "887          888         1       1   \n",
       "888          889         0       3   \n",
       "889          890         1       1   \n",
       "890          891         0       3   \n",
       "\n",
       "                                                  Name     Sex   Age  SibSp  \\\n",
       "0                              Braund, Mr. Owen Harris    male  22.0      1   \n",
       "1    Cumings, Mrs. John Bradley (Florence Briggs Th...  female  38.0      1   \n",
       "2                               Heikkinen, Miss. Laina  female  26.0      0   \n",
       "3         Futrelle, Mrs. Jacques Heath (Lily May Peel)  female  35.0      1   \n",
       "4                             Allen, Mr. William Henry    male  35.0      0   \n",
       "..                                                 ...     ...   ...    ...   \n",
       "886                              Montvila, Rev. Juozas    male  27.0      0   \n",
       "887                       Graham, Miss. Margaret Edith  female  19.0      0   \n",
       "888           Johnston, Miss. Catherine Helen \"Carrie\"  female  19.0      1   \n",
       "889                              Behr, Mr. Karl Howell    male  26.0      0   \n",
       "890                                Dooley, Mr. Patrick    male  32.0      0   \n",
       "\n",
       "     Parch            Ticket     Fare Cabin Embarked  \n",
       "0        0         A/5 21171   7.2500  A001        S  \n",
       "1        0          PC 17599  71.2833   C85        C  \n",
       "2        0  STON/O2. 3101282   7.9250   C85        S  \n",
       "3        0            113803  53.1000  C123        S  \n",
       "4        0            373450   8.0500  C123        S  \n",
       "..     ...               ...      ...   ...      ...  \n",
       "886      0            211536  13.0000   C50        S  \n",
       "887      0            112053  30.0000   B42        S  \n",
       "888      2        W./C. 6607  23.4500   B42        S  \n",
       "889      0            111369  30.0000  C148        C  \n",
       "890      0            370376   7.7500  C148        Q  \n",
       "\n",
       "[891 rows x 12 columns]"
      ]
     },
     "execution_count": 10,
     "metadata": {},
     "output_type": "execute_result"
    }
   ],
   "source": [
    "titanic = pd.read_csv('titanic.csv')\n",
    "titanic\n"
   ]
  },
  {
   "cell_type": "code",
   "execution_count": 21,
   "id": "e6af5021",
   "metadata": {},
   "outputs": [
    {
     "data": {
      "text/plain": [
       "pandas.core.frame.DataFrame"
      ]
     },
     "execution_count": 21,
     "metadata": {},
     "output_type": "execute_result"
    }
   ],
   "source": [
    "type(titanic)"
   ]
  },
  {
   "cell_type": "markdown",
   "id": "76e3fe0f",
   "metadata": {},
   "source": [
    "---\n",
    "### Exercise 7\n",
    "We can obtain the columns of the DataFrame with the columns attribute. Print the columns of the dataframe.\n",
    "\n",
    "This can be achieved by printing `.columns` directly, or by doing a for loop over the columns values and printing each member. Where df here represents the dataframe object read in from Ex 6.\n",
    "```\n",
    "print( df.columns )\n",
    "# or\n",
    "for c in df.columns:\n",
    "\tprint(c)\n",
    "``` \n",
    "> Index(['PassengerId', 'Survived', 'Pclass', 'Name', 'Sex', 'Age', 'SibSp', 'Parch', 'Ticket', 'Fare', 'Cabin', 'Embarked'],  \n",
    "       dtype='object'}\n",
    "\n",
    "> PassengerId    \n",
    "Survived    \n",
    "Pclass    \n",
    "Name    \n",
    "Sex    \n",
    "Age    \n",
    "SibSp    \n",
    "Parch    \n",
    "Ticket    \n",
    "Fare    \n",
    "Cabin    \n",
    "Embarked\n",
    "\n",
    "---"
   ]
  },
  {
   "cell_type": "code",
   "execution_count": 24,
   "id": "4de544b9",
   "metadata": {},
   "outputs": [
    {
     "name": "stdout",
     "output_type": "stream",
     "text": [
      "Index(['PassengerId', 'Survived', 'Pclass', 'Name', 'Sex', 'Age', 'SibSp',\n",
      "       'Parch', 'Ticket', 'Fare', 'Cabin', 'Embarked'],\n",
      "      dtype='object')\n"
     ]
    }
   ],
   "source": [
    "print( titanic.columns )"
   ]
  },
  {
   "cell_type": "code",
   "execution_count": 25,
   "id": "0ed4a35b",
   "metadata": {},
   "outputs": [
    {
     "name": "stdout",
     "output_type": "stream",
     "text": [
      "PassengerId\n",
      "Survived\n",
      "Pclass\n",
      "Name\n",
      "Sex\n",
      "Age\n",
      "SibSp\n",
      "Parch\n",
      "Ticket\n",
      "Fare\n",
      "Cabin\n",
      "Embarked\n"
     ]
    }
   ],
   "source": [
    "for c in titanic.columns:\n",
    "    print(c)"
   ]
  },
  {
   "cell_type": "markdown",
   "id": "447155ac",
   "metadata": {},
   "source": [
    "---\n",
    "### Exercise 8\n",
    "\n",
    "We can index a specific column that we want to look at by use of `[]`. This is similar to how you’ve already indexed Dictionaries within Python.\n",
    "\n",
    "Index the ‘Fare’ column and assign this to a variable. This should be of type Series, and will represent the entire column. Where each item represents a Fare somebody paid for their ticket.\n",
    "\n",
    "Note: The strings are case-sensitive here. ‘Fare’ != ‘fare’\n",
    "```\n",
    "fares = df['Fare']\n",
    "print( type(fares) )\n",
    "print(fares)\n",
    "``` \n",
    "```\n",
    "<class 'pandas.core.series.Series'>  \n",
    "0       7.2500  \n",
    "1      71.2833\n",
    "2       7.9250\n",
    "3      53.1000\n",
    "4       8.0500\n",
    "        ...\n",
    "886    13.0000\n",
    "887    30.0000\n",
    "888    23.4500\n",
    "889     7.7500\n",
    "Name: fare, Length: 891, dtype: float64\n",
    "```\n",
    "\n",
    "---"
   ]
  },
  {
   "cell_type": "code",
   "execution_count": 26,
   "id": "123d00ce",
   "metadata": {},
   "outputs": [
    {
     "name": "stdout",
     "output_type": "stream",
     "text": [
      "<class 'pandas.core.series.Series'>\n",
      "0       7.2500\n",
      "1      71.2833\n",
      "2       7.9250\n",
      "3      53.1000\n",
      "4       8.0500\n",
      "        ...   \n",
      "886    13.0000\n",
      "887    30.0000\n",
      "888    23.4500\n",
      "889    30.0000\n",
      "890     7.7500\n",
      "Name: Fare, Length: 891, dtype: float64\n"
     ]
    }
   ],
   "source": [
    "fares = titanic['Fare']\n",
    "print( type(fares) )\n",
    "print(fares)"
   ]
  },
  {
   "cell_type": "markdown",
   "id": "d216818e",
   "metadata": {},
   "source": [
    "---\n",
    "## Statistical measures of Data Series & Useful functionality\n",
    "Pandas Series objects have many defined methods, available at https://pandas.pydata.org/pandas-docs/stable/reference/api/pandas.Series.html\n",
    "\n",
    "### Exercise 9\n",
    "Calculate and display:\n",
    "1.\tThe count of Fares. This should provide the number of non-null Fare records you hold (valid numbers).\n",
    "2.\tThe mean of the Fares.\n",
    "3.\tThe median Fare.\n",
    "4.\tThe sum of all the Fares. ( sum method ).\n",
    "5.\tThe min and max of the Fares.\n",
    "6.\tThe standard deviation of the Fare price. Commonly abbreviated to std.\n",
    "7.\tThe 50% Quantile of Fare. This is effectively the mid-point of the range. The function accepts a number from 0 -> 1, where 1 represents 100%.\n",
    "\n",
    "> 891  \n",
    "32.204207968574636  \n",
    "14.4542  \n",
    "28693.9493  \n",
    "0.0 512.3292  \n",
    "49.6934286971809\n",
    "14.4542\n",
    "\n",
    " \n",
    "---"
   ]
  },
  {
   "cell_type": "code",
   "execution_count": 33,
   "id": "80744318",
   "metadata": {},
   "outputs": [
    {
     "name": "stdout",
     "output_type": "stream",
     "text": [
      "891\n",
      "32.204207968574636\n",
      "14.4542\n",
      "28693.9493\n",
      "0.0\n",
      "512.3292\n",
      "49.6934285971809\n",
      "14.4542\n"
     ]
    }
   ],
   "source": [
    "# print( fares.isna().sum() )\n",
    "print( fares.count() )\n",
    "print( fares.mean() )\n",
    "print( fares.median() )\n",
    "print( fares.sum() )\n",
    "print( fares.min() )\n",
    "print( fares.max() )\n",
    "print( fares.std() )\n",
    "print( fares.quantile() )\n",
    "\n"
   ]
  },
  {
   "cell_type": "markdown",
   "id": "3ee5819d",
   "metadata": {},
   "source": [
    "---\n",
    "### Exercise 10\n",
    "Modify the simple output of Ex 9, and use f-strings to print a more user-friendly output. E.g “There are 891 Fare records”, this should put the expression itself into the f-string.\n",
    "```\n",
    "print( f\"There are {fares.count()} Fare records\" )\n",
    "```\n",
    "\n",
    "---"
   ]
  },
  {
   "cell_type": "code",
   "execution_count": 34,
   "id": "6f25e10f",
   "metadata": {},
   "outputs": [
    {
     "name": "stdout",
     "output_type": "stream",
     "text": [
      "There are 891 Fare records\n",
      "The mean value in Fare records is 32.204207968574636\n",
      "The median value in Fare records is 14.4542\n",
      "The Sum of Fare records is 28693.9493\n",
      "The minimum value in Fare records is 0.0\n",
      "The maximum value in Fare records is 512.3292\n",
      "The standard deviation in Fare records is 49.6934285971809\n",
      "The 50th Quantile in Fare records is 14.4542\n"
     ]
    }
   ],
   "source": [
    "print( f\"There are {fares.count()} Fare records\" )\n",
    "print( f\"The mean value in Fare records is {fares.mean()}\" )\n",
    "print( f\"The median value in Fare records is {fares.median()}\" )\n",
    "print( f\"The Sum of Fare records is {fares.sum()}\" )\n",
    "print( f\"The minimum value in Fare records is {fares.min()}\" )\n",
    "print( f\"The maximum value in Fare records is {fares.max()}\" )\n",
    "print( f\"The standard deviation in Fare records is {fares.std()}\" )\n",
    "print( f\"The 50th Quantile in Fare records is {fares.quantile()}\" )"
   ]
  },
  {
   "cell_type": "markdown",
   "id": "4b451df7",
   "metadata": {},
   "source": [
    "---\n",
    "### Exercise 11\n",
    "If we wanted to round the Mean in our example, we might consider using the `round()` function passing the float, and the number of decimal places.\n",
    "\n",
    "However, f-strings also allow us to specify the number of places to round to in the `{}` template itself.\n",
    "```\n",
    "print( f\"Mean Fare: {fares.mean()}\" )\n",
    "print( f\"Mean Fare: {fares.mean():.2f}\" )\n",
    "```\n",
    "We can use `:` and then specify some special characters, notably `.2f` will round to 2 decimal places.\n",
    "\n",
    "For more options here, you may find https://mkaz.blog/code/python-string-format-cookbook/ a useful comprehensive example.\n",
    "\n",
    "1.\tUsing this f-string approach, round all floats to 2 decimal places.\n",
    "\n",
    "---"
   ]
  },
  {
   "cell_type": "code",
   "execution_count": 35,
   "id": "0c0994f9",
   "metadata": {},
   "outputs": [
    {
     "name": "stdout",
     "output_type": "stream",
     "text": [
      "Mean Fare: 32.204207968574636\n",
      "Mean Fare: 32.20\n"
     ]
    }
   ],
   "source": [
    "print( f\"Mean Fare: {fares.mean()}\" )\n",
    "print( f\"Mean Fare: {fares.mean():.2f}\" )"
   ]
  },
  {
   "cell_type": "code",
   "execution_count": 36,
   "id": "21838c56",
   "metadata": {},
   "outputs": [
    {
     "name": "stdout",
     "output_type": "stream",
     "text": [
      "The mean value in Fare records is 32.20\n",
      "The median value in Fare records is 14.45\n",
      "The Sum of Fare records is 28693.95\n",
      "The minimum value in Fare records is 0.00\n",
      "The maximum value in Fare records is 512.33\n",
      "The standard deviation in Fare records is 49.69\n",
      "The 50th Quantile in Fare records is 14.45\n"
     ]
    }
   ],
   "source": [
    "print( f\"The mean value in Fare records is {fares.mean():.2f}\" )\n",
    "print( f\"The median value in Fare records is {fares.median():.2f}\" )\n",
    "print( f\"The Sum of Fare records is {fares.sum():.2f}\" )\n",
    "print( f\"The minimum value in Fare records is {fares.min():.2f}\" )\n",
    "print( f\"The maximum value in Fare records is {fares.max():.2f}\" )\n",
    "print( f\"The standard deviation in Fare records is {fares.std():.2f}\" )\n",
    "print( f\"The 50th Quantile in Fare records is {fares.quantile():.2f}\" )"
   ]
  },
  {
   "cell_type": "markdown",
   "id": "a16ba9e8",
   "metadata": {},
   "source": [
    "---\n",
    "### Exercise 12\n",
    "\n",
    "Index the Embarked column, and calculate the mode of this column. What is the most common Embarked location?\n",
    "\n",
    "Remember: Mode doesn’t return a single item, but many. You may wish to index `[0]` here, or iterate through the mode output and print each individually.\n",
    "\n",
    "---"
   ]
  },
  {
   "cell_type": "code",
   "execution_count": 45,
   "id": "40a495ea",
   "metadata": {},
   "outputs": [
    {
     "data": {
      "text/plain": [
       "0      S\n",
       "1      C\n",
       "2      S\n",
       "3      S\n",
       "4      S\n",
       "      ..\n",
       "886    S\n",
       "887    S\n",
       "888    S\n",
       "889    C\n",
       "890    Q\n",
       "Name: Embarked, Length: 891, dtype: object"
      ]
     },
     "execution_count": 45,
     "metadata": {},
     "output_type": "execute_result"
    }
   ],
   "source": [
    "Embarked = titanic['Embarked']\n",
    "Embarked"
   ]
  },
  {
   "cell_type": "code",
   "execution_count": 44,
   "id": "7aaf0d11",
   "metadata": {},
   "outputs": [
    {
     "name": "stdout",
     "output_type": "stream",
     "text": [
      "0    S\n",
      "Name: Embarked, dtype: object\n"
     ]
    }
   ],
   "source": [
    "print(Embarked.mode())"
   ]
  },
  {
   "cell_type": "markdown",
   "id": "8fad5b56",
   "metadata": {},
   "source": [
    "---\n",
    "### Exercise 13\n",
    "\n",
    "We can use the `.unique()` function of a Data Series object to find all the types of values in a column which is categoric. Examples of this could be eye colour, or hair colour. Non-continuous data.\n",
    "\n",
    "Find the unique entries for our Embarked Column.\n",
    "\n",
    "---"
   ]
  },
  {
   "cell_type": "code",
   "execution_count": 47,
   "id": "b9b110f6",
   "metadata": {},
   "outputs": [
    {
     "data": {
      "text/plain": [
       "array(['S', 'C', 'Q'], dtype=object)"
      ]
     },
     "execution_count": 47,
     "metadata": {},
     "output_type": "execute_result"
    }
   ],
   "source": [
    "Embarked.unique()"
   ]
  },
  {
   "cell_type": "markdown",
   "id": "c070f249",
   "metadata": {},
   "source": [
    "---\n",
    "### Exercise 14\n",
    "This doesn’t tell us how many of each exist in our dataset yet. We can use the `value_counts` function to obtain the value and the number of entries which exist.\n",
    "\n",
    "Get the count of Embarked, then compare it against the `value_counts`.\n",
    " \n",
    "```\n",
    "print( df['Embarked'].count() )\n",
    "print( df['Embarked'].value_counts() )\n",
    "```\n",
    "> 891  \n",
    "S  644  \n",
    "C  169  \n",
    "Q   78\n",
    "Name: Embarked, dtype: int64\n",
    "\n",
    "---"
   ]
  },
  {
   "cell_type": "code",
   "execution_count": 48,
   "id": "be89b8ff",
   "metadata": {},
   "outputs": [
    {
     "name": "stdout",
     "output_type": "stream",
     "text": [
      "891\n",
      "S    644\n",
      "C    169\n",
      "Q     78\n",
      "Name: Embarked, dtype: int64\n"
     ]
    }
   ],
   "source": [
    "print( titanic['Embarked'].count() )\n",
    "print( titanic['Embarked'].value_counts() )"
   ]
  },
  {
   "cell_type": "markdown",
   "id": "1e5fb382",
   "metadata": {},
   "source": [
    "---\n",
    "### Exercise 15\n",
    "We can use the method describe of a DataFrame and a Series object to view the data itself, where it will automatically calculate properties about the data for us. This is useful if we want to inspect this data ourselves.\n",
    "```\n",
    "bdf.describe()\n",
    "```\n",
    "---\n",
    "```\n",
    "      Passengerid    Survived      Pclass        Age       SibSp       Parch        Fare\n",
    "count  891.000000  891.000000  891.000000  891.00000  891.000000  891.000000  891.000000\n",
    " mean  446.000000    0.383838    2.308642   29.58156    0.523008    0.381594   32.204208\n",
    "  std  257.353842    0.486592    0.836071   14.55459    1.102743    0.806057   49.693429\n",
    "  min    1.000000    0.000000    1.000000    0.42000    0.000000    0.000000    0.000000\n",
    "  25%  223.500000    0.000000    2.000000   20.00000    0.000000    0.000000    7.910400\n",
    "  50%  446.000000    0.000000    3.000000   28.00000    0.000000    0.000000   14.454200\n",
    "  75%  668.500000    1.000000    3.000000   38.00000    1.000000    0.000000   31.000000\n",
    "  max  891.000000    1.000000    3.000000   80.00000    8.000000    6.000000  512.329200\n",
    "```\n",
    "```\n",
    "df['Fare'].describe()\n",
    "```\n",
    "```\n",
    "count    891.000000\n",
    " mean     32.204208\n",
    "  std     49.693429\n",
    "  min      0.000000\n",
    "  25%      7.910400\n",
    "  50%     14.454200\n",
    "  75%     31.000000\n",
    "  max    512.329200\n",
    "Name: Fare, dtype: float64\n",
    "```\n",
    "\n",
    "---\n"
   ]
  },
  {
   "cell_type": "code",
   "execution_count": 49,
   "id": "13cee50c",
   "metadata": {},
   "outputs": [
    {
     "data": {
      "text/html": [
       "<div>\n",
       "<style scoped>\n",
       "    .dataframe tbody tr th:only-of-type {\n",
       "        vertical-align: middle;\n",
       "    }\n",
       "\n",
       "    .dataframe tbody tr th {\n",
       "        vertical-align: top;\n",
       "    }\n",
       "\n",
       "    .dataframe thead th {\n",
       "        text-align: right;\n",
       "    }\n",
       "</style>\n",
       "<table border=\"1\" class=\"dataframe\">\n",
       "  <thead>\n",
       "    <tr style=\"text-align: right;\">\n",
       "      <th></th>\n",
       "      <th>PassengerId</th>\n",
       "      <th>Survived</th>\n",
       "      <th>Pclass</th>\n",
       "      <th>Age</th>\n",
       "      <th>SibSp</th>\n",
       "      <th>Parch</th>\n",
       "      <th>Fare</th>\n",
       "    </tr>\n",
       "  </thead>\n",
       "  <tbody>\n",
       "    <tr>\n",
       "      <th>count</th>\n",
       "      <td>891.000000</td>\n",
       "      <td>891.000000</td>\n",
       "      <td>891.000000</td>\n",
       "      <td>891.00000</td>\n",
       "      <td>891.000000</td>\n",
       "      <td>891.000000</td>\n",
       "      <td>891.000000</td>\n",
       "    </tr>\n",
       "    <tr>\n",
       "      <th>mean</th>\n",
       "      <td>446.000000</td>\n",
       "      <td>0.383838</td>\n",
       "      <td>2.308642</td>\n",
       "      <td>29.58156</td>\n",
       "      <td>0.523008</td>\n",
       "      <td>0.381594</td>\n",
       "      <td>32.204208</td>\n",
       "    </tr>\n",
       "    <tr>\n",
       "      <th>std</th>\n",
       "      <td>257.353842</td>\n",
       "      <td>0.486592</td>\n",
       "      <td>0.836071</td>\n",
       "      <td>14.55459</td>\n",
       "      <td>1.102743</td>\n",
       "      <td>0.806057</td>\n",
       "      <td>49.693429</td>\n",
       "    </tr>\n",
       "    <tr>\n",
       "      <th>min</th>\n",
       "      <td>1.000000</td>\n",
       "      <td>0.000000</td>\n",
       "      <td>1.000000</td>\n",
       "      <td>0.42000</td>\n",
       "      <td>0.000000</td>\n",
       "      <td>0.000000</td>\n",
       "      <td>0.000000</td>\n",
       "    </tr>\n",
       "    <tr>\n",
       "      <th>25%</th>\n",
       "      <td>223.500000</td>\n",
       "      <td>0.000000</td>\n",
       "      <td>2.000000</td>\n",
       "      <td>20.00000</td>\n",
       "      <td>0.000000</td>\n",
       "      <td>0.000000</td>\n",
       "      <td>7.910400</td>\n",
       "    </tr>\n",
       "    <tr>\n",
       "      <th>50%</th>\n",
       "      <td>446.000000</td>\n",
       "      <td>0.000000</td>\n",
       "      <td>3.000000</td>\n",
       "      <td>28.00000</td>\n",
       "      <td>0.000000</td>\n",
       "      <td>0.000000</td>\n",
       "      <td>14.454200</td>\n",
       "    </tr>\n",
       "    <tr>\n",
       "      <th>75%</th>\n",
       "      <td>668.500000</td>\n",
       "      <td>1.000000</td>\n",
       "      <td>3.000000</td>\n",
       "      <td>38.00000</td>\n",
       "      <td>1.000000</td>\n",
       "      <td>0.000000</td>\n",
       "      <td>31.000000</td>\n",
       "    </tr>\n",
       "    <tr>\n",
       "      <th>max</th>\n",
       "      <td>891.000000</td>\n",
       "      <td>1.000000</td>\n",
       "      <td>3.000000</td>\n",
       "      <td>80.00000</td>\n",
       "      <td>8.000000</td>\n",
       "      <td>6.000000</td>\n",
       "      <td>512.329200</td>\n",
       "    </tr>\n",
       "  </tbody>\n",
       "</table>\n",
       "</div>"
      ],
      "text/plain": [
       "       PassengerId    Survived      Pclass        Age       SibSp       Parch  \\\n",
       "count   891.000000  891.000000  891.000000  891.00000  891.000000  891.000000   \n",
       "mean    446.000000    0.383838    2.308642   29.58156    0.523008    0.381594   \n",
       "std     257.353842    0.486592    0.836071   14.55459    1.102743    0.806057   \n",
       "min       1.000000    0.000000    1.000000    0.42000    0.000000    0.000000   \n",
       "25%     223.500000    0.000000    2.000000   20.00000    0.000000    0.000000   \n",
       "50%     446.000000    0.000000    3.000000   28.00000    0.000000    0.000000   \n",
       "75%     668.500000    1.000000    3.000000   38.00000    1.000000    0.000000   \n",
       "max     891.000000    1.000000    3.000000   80.00000    8.000000    6.000000   \n",
       "\n",
       "             Fare  \n",
       "count  891.000000  \n",
       "mean    32.204208  \n",
       "std     49.693429  \n",
       "min      0.000000  \n",
       "25%      7.910400  \n",
       "50%     14.454200  \n",
       "75%     31.000000  \n",
       "max    512.329200  "
      ]
     },
     "execution_count": 49,
     "metadata": {},
     "output_type": "execute_result"
    }
   ],
   "source": [
    "titanic.describe()"
   ]
  },
  {
   "cell_type": "code",
   "execution_count": 50,
   "id": "f6263d79",
   "metadata": {},
   "outputs": [
    {
     "data": {
      "text/plain": [
       "count    891.000000\n",
       "mean      32.204208\n",
       "std       49.693429\n",
       "min        0.000000\n",
       "25%        7.910400\n",
       "50%       14.454200\n",
       "75%       31.000000\n",
       "max      512.329200\n",
       "Name: Fare, dtype: float64"
      ]
     },
     "execution_count": 50,
     "metadata": {},
     "output_type": "execute_result"
    }
   ],
   "source": [
    "titanic['Fare'].describe()"
   ]
  },
  {
   "cell_type": "markdown",
   "id": "ce869305",
   "metadata": {},
   "source": [
    "---\n",
    "### Exercise 16:\n",
    "We can use Pandas to write some expressions which can then be used to filter the Dataframe itself.\n",
    "\n",
    "We can find all entries where Age meets a certain criteria. E.g Age >= 18, to find all adults. Something we don’t have a column for!\n",
    "\n",
    "E.g.\n",
    "```\n",
    "df['Age'] >= 18\n",
    "```\n",
    "This should provide a List of True/ False values, for each record in our dataset. You can verify this. Check the type. It should be a Series. Call `.count()` on it, you should have the same number as you have rows in the original dataframe. ( This should be 891 )\n",
    "\n",
    "---"
   ]
  },
  {
   "cell_type": "code",
   "execution_count": 53,
   "id": "357bb3a0",
   "metadata": {},
   "outputs": [
    {
     "data": {
      "text/plain": [
       "0      True\n",
       "1      True\n",
       "2      True\n",
       "3      True\n",
       "4      True\n",
       "       ... \n",
       "886    True\n",
       "887    True\n",
       "888    True\n",
       "889    True\n",
       "890    True\n",
       "Name: Age, Length: 891, dtype: bool"
      ]
     },
     "execution_count": 53,
     "metadata": {},
     "output_type": "execute_result"
    }
   ],
   "source": [
    "titanic['Age'] >= 18\n"
   ]
  },
  {
   "cell_type": "code",
   "execution_count": 54,
   "id": "60d56433",
   "metadata": {},
   "outputs": [
    {
     "name": "stdout",
     "output_type": "stream",
     "text": [
      "<class 'pandas.core.series.Series'>\n"
     ]
    }
   ],
   "source": [
    "print(type(titanic['Age'] >= 18))"
   ]
  },
  {
   "cell_type": "code",
   "execution_count": 56,
   "id": "ad328193",
   "metadata": {},
   "outputs": [
    {
     "data": {
      "text/plain": [
       "891"
      ]
     },
     "execution_count": 56,
     "metadata": {},
     "output_type": "execute_result"
    }
   ],
   "source": [
    "Adults_titanic = titanic['Age'] >= 18\n",
    "Adults_titanic.count()"
   ]
  },
  {
   "cell_type": "markdown",
   "id": "f7866371",
   "metadata": {},
   "source": [
    "---\n",
    "### Exercise 17\n",
    "We can now use this Series of True/False values to index our original dataframe. In essence, grab only the rows where True exists (where it matches out criteria).\n",
    "```\n",
    "df[ df['Age'] >= 18 ]\n",
    "```\n",
    "If we output that dataframe, we should see that the count is now less than 891. And all the records here should represent adults.\n",
    "\n",
    "1.\tUsing this technique, find all passengers who paid more than 15 for their ticket.\n",
    "\n",
    "---"
   ]
  },
  {
   "cell_type": "code",
   "execution_count": 57,
   "id": "ed140e67",
   "metadata": {},
   "outputs": [
    {
     "data": {
      "text/html": [
       "<div>\n",
       "<style scoped>\n",
       "    .dataframe tbody tr th:only-of-type {\n",
       "        vertical-align: middle;\n",
       "    }\n",
       "\n",
       "    .dataframe tbody tr th {\n",
       "        vertical-align: top;\n",
       "    }\n",
       "\n",
       "    .dataframe thead th {\n",
       "        text-align: right;\n",
       "    }\n",
       "</style>\n",
       "<table border=\"1\" class=\"dataframe\">\n",
       "  <thead>\n",
       "    <tr style=\"text-align: right;\">\n",
       "      <th></th>\n",
       "      <th>PassengerId</th>\n",
       "      <th>Survived</th>\n",
       "      <th>Pclass</th>\n",
       "      <th>Name</th>\n",
       "      <th>Sex</th>\n",
       "      <th>Age</th>\n",
       "      <th>SibSp</th>\n",
       "      <th>Parch</th>\n",
       "      <th>Ticket</th>\n",
       "      <th>Fare</th>\n",
       "      <th>Cabin</th>\n",
       "      <th>Embarked</th>\n",
       "    </tr>\n",
       "  </thead>\n",
       "  <tbody>\n",
       "    <tr>\n",
       "      <th>0</th>\n",
       "      <td>1</td>\n",
       "      <td>0</td>\n",
       "      <td>3</td>\n",
       "      <td>Braund, Mr. Owen Harris</td>\n",
       "      <td>male</td>\n",
       "      <td>22.0</td>\n",
       "      <td>1</td>\n",
       "      <td>0</td>\n",
       "      <td>A/5 21171</td>\n",
       "      <td>7.2500</td>\n",
       "      <td>A001</td>\n",
       "      <td>S</td>\n",
       "    </tr>\n",
       "    <tr>\n",
       "      <th>1</th>\n",
       "      <td>2</td>\n",
       "      <td>1</td>\n",
       "      <td>1</td>\n",
       "      <td>Cumings, Mrs. John Bradley (Florence Briggs Th...</td>\n",
       "      <td>female</td>\n",
       "      <td>38.0</td>\n",
       "      <td>1</td>\n",
       "      <td>0</td>\n",
       "      <td>PC 17599</td>\n",
       "      <td>71.2833</td>\n",
       "      <td>C85</td>\n",
       "      <td>C</td>\n",
       "    </tr>\n",
       "    <tr>\n",
       "      <th>2</th>\n",
       "      <td>3</td>\n",
       "      <td>1</td>\n",
       "      <td>3</td>\n",
       "      <td>Heikkinen, Miss. Laina</td>\n",
       "      <td>female</td>\n",
       "      <td>26.0</td>\n",
       "      <td>0</td>\n",
       "      <td>0</td>\n",
       "      <td>STON/O2. 3101282</td>\n",
       "      <td>7.9250</td>\n",
       "      <td>C85</td>\n",
       "      <td>S</td>\n",
       "    </tr>\n",
       "    <tr>\n",
       "      <th>3</th>\n",
       "      <td>4</td>\n",
       "      <td>1</td>\n",
       "      <td>1</td>\n",
       "      <td>Futrelle, Mrs. Jacques Heath (Lily May Peel)</td>\n",
       "      <td>female</td>\n",
       "      <td>35.0</td>\n",
       "      <td>1</td>\n",
       "      <td>0</td>\n",
       "      <td>113803</td>\n",
       "      <td>53.1000</td>\n",
       "      <td>C123</td>\n",
       "      <td>S</td>\n",
       "    </tr>\n",
       "    <tr>\n",
       "      <th>4</th>\n",
       "      <td>5</td>\n",
       "      <td>0</td>\n",
       "      <td>3</td>\n",
       "      <td>Allen, Mr. William Henry</td>\n",
       "      <td>male</td>\n",
       "      <td>35.0</td>\n",
       "      <td>0</td>\n",
       "      <td>0</td>\n",
       "      <td>373450</td>\n",
       "      <td>8.0500</td>\n",
       "      <td>C123</td>\n",
       "      <td>S</td>\n",
       "    </tr>\n",
       "    <tr>\n",
       "      <th>...</th>\n",
       "      <td>...</td>\n",
       "      <td>...</td>\n",
       "      <td>...</td>\n",
       "      <td>...</td>\n",
       "      <td>...</td>\n",
       "      <td>...</td>\n",
       "      <td>...</td>\n",
       "      <td>...</td>\n",
       "      <td>...</td>\n",
       "      <td>...</td>\n",
       "      <td>...</td>\n",
       "      <td>...</td>\n",
       "    </tr>\n",
       "    <tr>\n",
       "      <th>886</th>\n",
       "      <td>887</td>\n",
       "      <td>0</td>\n",
       "      <td>2</td>\n",
       "      <td>Montvila, Rev. Juozas</td>\n",
       "      <td>male</td>\n",
       "      <td>27.0</td>\n",
       "      <td>0</td>\n",
       "      <td>0</td>\n",
       "      <td>211536</td>\n",
       "      <td>13.0000</td>\n",
       "      <td>C50</td>\n",
       "      <td>S</td>\n",
       "    </tr>\n",
       "    <tr>\n",
       "      <th>887</th>\n",
       "      <td>888</td>\n",
       "      <td>1</td>\n",
       "      <td>1</td>\n",
       "      <td>Graham, Miss. Margaret Edith</td>\n",
       "      <td>female</td>\n",
       "      <td>19.0</td>\n",
       "      <td>0</td>\n",
       "      <td>0</td>\n",
       "      <td>112053</td>\n",
       "      <td>30.0000</td>\n",
       "      <td>B42</td>\n",
       "      <td>S</td>\n",
       "    </tr>\n",
       "    <tr>\n",
       "      <th>888</th>\n",
       "      <td>889</td>\n",
       "      <td>0</td>\n",
       "      <td>3</td>\n",
       "      <td>Johnston, Miss. Catherine Helen \"Carrie\"</td>\n",
       "      <td>female</td>\n",
       "      <td>19.0</td>\n",
       "      <td>1</td>\n",
       "      <td>2</td>\n",
       "      <td>W./C. 6607</td>\n",
       "      <td>23.4500</td>\n",
       "      <td>B42</td>\n",
       "      <td>S</td>\n",
       "    </tr>\n",
       "    <tr>\n",
       "      <th>889</th>\n",
       "      <td>890</td>\n",
       "      <td>1</td>\n",
       "      <td>1</td>\n",
       "      <td>Behr, Mr. Karl Howell</td>\n",
       "      <td>male</td>\n",
       "      <td>26.0</td>\n",
       "      <td>0</td>\n",
       "      <td>0</td>\n",
       "      <td>111369</td>\n",
       "      <td>30.0000</td>\n",
       "      <td>C148</td>\n",
       "      <td>C</td>\n",
       "    </tr>\n",
       "    <tr>\n",
       "      <th>890</th>\n",
       "      <td>891</td>\n",
       "      <td>0</td>\n",
       "      <td>3</td>\n",
       "      <td>Dooley, Mr. Patrick</td>\n",
       "      <td>male</td>\n",
       "      <td>32.0</td>\n",
       "      <td>0</td>\n",
       "      <td>0</td>\n",
       "      <td>370376</td>\n",
       "      <td>7.7500</td>\n",
       "      <td>C148</td>\n",
       "      <td>Q</td>\n",
       "    </tr>\n",
       "  </tbody>\n",
       "</table>\n",
       "<p>748 rows × 12 columns</p>\n",
       "</div>"
      ],
      "text/plain": [
       "     PassengerId  Survived  Pclass  \\\n",
       "0              1         0       3   \n",
       "1              2         1       1   \n",
       "2              3         1       3   \n",
       "3              4         1       1   \n",
       "4              5         0       3   \n",
       "..           ...       ...     ...   \n",
       "886          887         0       2   \n",
       "887          888         1       1   \n",
       "888          889         0       3   \n",
       "889          890         1       1   \n",
       "890          891         0       3   \n",
       "\n",
       "                                                  Name     Sex   Age  SibSp  \\\n",
       "0                              Braund, Mr. Owen Harris    male  22.0      1   \n",
       "1    Cumings, Mrs. John Bradley (Florence Briggs Th...  female  38.0      1   \n",
       "2                               Heikkinen, Miss. Laina  female  26.0      0   \n",
       "3         Futrelle, Mrs. Jacques Heath (Lily May Peel)  female  35.0      1   \n",
       "4                             Allen, Mr. William Henry    male  35.0      0   \n",
       "..                                                 ...     ...   ...    ...   \n",
       "886                              Montvila, Rev. Juozas    male  27.0      0   \n",
       "887                       Graham, Miss. Margaret Edith  female  19.0      0   \n",
       "888           Johnston, Miss. Catherine Helen \"Carrie\"  female  19.0      1   \n",
       "889                              Behr, Mr. Karl Howell    male  26.0      0   \n",
       "890                                Dooley, Mr. Patrick    male  32.0      0   \n",
       "\n",
       "     Parch            Ticket     Fare Cabin Embarked  \n",
       "0        0         A/5 21171   7.2500  A001        S  \n",
       "1        0          PC 17599  71.2833   C85        C  \n",
       "2        0  STON/O2. 3101282   7.9250   C85        S  \n",
       "3        0            113803  53.1000  C123        S  \n",
       "4        0            373450   8.0500  C123        S  \n",
       "..     ...               ...      ...   ...      ...  \n",
       "886      0            211536  13.0000   C50        S  \n",
       "887      0            112053  30.0000   B42        S  \n",
       "888      2        W./C. 6607  23.4500   B42        S  \n",
       "889      0            111369  30.0000  C148        C  \n",
       "890      0            370376   7.7500  C148        Q  \n",
       "\n",
       "[748 rows x 12 columns]"
      ]
     },
     "execution_count": 57,
     "metadata": {},
     "output_type": "execute_result"
    }
   ],
   "source": [
    "titanic[ titanic['Age'] >= 18 ]"
   ]
  },
  {
   "cell_type": "code",
   "execution_count": 83,
   "id": "1f9cb246",
   "metadata": {},
   "outputs": [
    {
     "data": {
      "text/html": [
       "<div>\n",
       "<style scoped>\n",
       "    .dataframe tbody tr th:only-of-type {\n",
       "        vertical-align: middle;\n",
       "    }\n",
       "\n",
       "    .dataframe tbody tr th {\n",
       "        vertical-align: top;\n",
       "    }\n",
       "\n",
       "    .dataframe thead th {\n",
       "        text-align: right;\n",
       "    }\n",
       "</style>\n",
       "<table border=\"1\" class=\"dataframe\">\n",
       "  <thead>\n",
       "    <tr style=\"text-align: right;\">\n",
       "      <th></th>\n",
       "      <th>PassengerId</th>\n",
       "      <th>Survived</th>\n",
       "      <th>Pclass</th>\n",
       "      <th>Name</th>\n",
       "      <th>Sex</th>\n",
       "      <th>Age</th>\n",
       "      <th>SibSp</th>\n",
       "      <th>Parch</th>\n",
       "      <th>Ticket</th>\n",
       "      <th>Fare</th>\n",
       "      <th>Cabin</th>\n",
       "      <th>Embarked</th>\n",
       "    </tr>\n",
       "  </thead>\n",
       "  <tbody>\n",
       "    <tr>\n",
       "      <th>1</th>\n",
       "      <td>2</td>\n",
       "      <td>1</td>\n",
       "      <td>1</td>\n",
       "      <td>Cumings, Mrs. John Bradley (Florence Briggs Th...</td>\n",
       "      <td>female</td>\n",
       "      <td>38.0</td>\n",
       "      <td>1</td>\n",
       "      <td>0</td>\n",
       "      <td>PC 17599</td>\n",
       "      <td>71.2833</td>\n",
       "      <td>C85</td>\n",
       "      <td>C</td>\n",
       "    </tr>\n",
       "    <tr>\n",
       "      <th>3</th>\n",
       "      <td>4</td>\n",
       "      <td>1</td>\n",
       "      <td>1</td>\n",
       "      <td>Futrelle, Mrs. Jacques Heath (Lily May Peel)</td>\n",
       "      <td>female</td>\n",
       "      <td>35.0</td>\n",
       "      <td>1</td>\n",
       "      <td>0</td>\n",
       "      <td>113803</td>\n",
       "      <td>53.1000</td>\n",
       "      <td>C123</td>\n",
       "      <td>S</td>\n",
       "    </tr>\n",
       "    <tr>\n",
       "      <th>6</th>\n",
       "      <td>7</td>\n",
       "      <td>0</td>\n",
       "      <td>1</td>\n",
       "      <td>McCarthy, Mr. Timothy J</td>\n",
       "      <td>male</td>\n",
       "      <td>54.0</td>\n",
       "      <td>0</td>\n",
       "      <td>0</td>\n",
       "      <td>17463</td>\n",
       "      <td>51.8625</td>\n",
       "      <td>E46</td>\n",
       "      <td>S</td>\n",
       "    </tr>\n",
       "    <tr>\n",
       "      <th>7</th>\n",
       "      <td>8</td>\n",
       "      <td>0</td>\n",
       "      <td>3</td>\n",
       "      <td>Palsson, Master. Gosta Leonard</td>\n",
       "      <td>male</td>\n",
       "      <td>2.0</td>\n",
       "      <td>3</td>\n",
       "      <td>1</td>\n",
       "      <td>349909</td>\n",
       "      <td>21.0750</td>\n",
       "      <td>E46</td>\n",
       "      <td>S</td>\n",
       "    </tr>\n",
       "    <tr>\n",
       "      <th>9</th>\n",
       "      <td>10</td>\n",
       "      <td>1</td>\n",
       "      <td>2</td>\n",
       "      <td>Nasser, Mrs. Nicholas (Adele Achem)</td>\n",
       "      <td>female</td>\n",
       "      <td>14.0</td>\n",
       "      <td>1</td>\n",
       "      <td>0</td>\n",
       "      <td>237736</td>\n",
       "      <td>30.0708</td>\n",
       "      <td>E46</td>\n",
       "      <td>C</td>\n",
       "    </tr>\n",
       "    <tr>\n",
       "      <th>...</th>\n",
       "      <td>...</td>\n",
       "      <td>...</td>\n",
       "      <td>...</td>\n",
       "      <td>...</td>\n",
       "      <td>...</td>\n",
       "      <td>...</td>\n",
       "      <td>...</td>\n",
       "      <td>...</td>\n",
       "      <td>...</td>\n",
       "      <td>...</td>\n",
       "      <td>...</td>\n",
       "      <td>...</td>\n",
       "    </tr>\n",
       "    <tr>\n",
       "      <th>880</th>\n",
       "      <td>881</td>\n",
       "      <td>1</td>\n",
       "      <td>2</td>\n",
       "      <td>Shelley, Mrs. William (Imanita Parrish Hall)</td>\n",
       "      <td>female</td>\n",
       "      <td>25.0</td>\n",
       "      <td>0</td>\n",
       "      <td>1</td>\n",
       "      <td>230433</td>\n",
       "      <td>26.0000</td>\n",
       "      <td>C50</td>\n",
       "      <td>S</td>\n",
       "    </tr>\n",
       "    <tr>\n",
       "      <th>885</th>\n",
       "      <td>886</td>\n",
       "      <td>0</td>\n",
       "      <td>3</td>\n",
       "      <td>Rice, Mrs. William (Margaret Norton)</td>\n",
       "      <td>female</td>\n",
       "      <td>39.0</td>\n",
       "      <td>0</td>\n",
       "      <td>5</td>\n",
       "      <td>382652</td>\n",
       "      <td>29.1250</td>\n",
       "      <td>C50</td>\n",
       "      <td>Q</td>\n",
       "    </tr>\n",
       "    <tr>\n",
       "      <th>887</th>\n",
       "      <td>888</td>\n",
       "      <td>1</td>\n",
       "      <td>1</td>\n",
       "      <td>Graham, Miss. Margaret Edith</td>\n",
       "      <td>female</td>\n",
       "      <td>19.0</td>\n",
       "      <td>0</td>\n",
       "      <td>0</td>\n",
       "      <td>112053</td>\n",
       "      <td>30.0000</td>\n",
       "      <td>B42</td>\n",
       "      <td>S</td>\n",
       "    </tr>\n",
       "    <tr>\n",
       "      <th>888</th>\n",
       "      <td>889</td>\n",
       "      <td>0</td>\n",
       "      <td>3</td>\n",
       "      <td>Johnston, Miss. Catherine Helen \"Carrie\"</td>\n",
       "      <td>female</td>\n",
       "      <td>19.0</td>\n",
       "      <td>1</td>\n",
       "      <td>2</td>\n",
       "      <td>W./C. 6607</td>\n",
       "      <td>23.4500</td>\n",
       "      <td>B42</td>\n",
       "      <td>S</td>\n",
       "    </tr>\n",
       "    <tr>\n",
       "      <th>889</th>\n",
       "      <td>890</td>\n",
       "      <td>1</td>\n",
       "      <td>1</td>\n",
       "      <td>Behr, Mr. Karl Howell</td>\n",
       "      <td>male</td>\n",
       "      <td>26.0</td>\n",
       "      <td>0</td>\n",
       "      <td>0</td>\n",
       "      <td>111369</td>\n",
       "      <td>30.0000</td>\n",
       "      <td>C148</td>\n",
       "      <td>C</td>\n",
       "    </tr>\n",
       "  </tbody>\n",
       "</table>\n",
       "<p>433 rows × 12 columns</p>\n",
       "</div>"
      ],
      "text/plain": [
       "     PassengerId  Survived  Pclass  \\\n",
       "1              2         1       1   \n",
       "3              4         1       1   \n",
       "6              7         0       1   \n",
       "7              8         0       3   \n",
       "9             10         1       2   \n",
       "..           ...       ...     ...   \n",
       "880          881         1       2   \n",
       "885          886         0       3   \n",
       "887          888         1       1   \n",
       "888          889         0       3   \n",
       "889          890         1       1   \n",
       "\n",
       "                                                  Name     Sex   Age  SibSp  \\\n",
       "1    Cumings, Mrs. John Bradley (Florence Briggs Th...  female  38.0      1   \n",
       "3         Futrelle, Mrs. Jacques Heath (Lily May Peel)  female  35.0      1   \n",
       "6                              McCarthy, Mr. Timothy J    male  54.0      0   \n",
       "7                       Palsson, Master. Gosta Leonard    male   2.0      3   \n",
       "9                  Nasser, Mrs. Nicholas (Adele Achem)  female  14.0      1   \n",
       "..                                                 ...     ...   ...    ...   \n",
       "880       Shelley, Mrs. William (Imanita Parrish Hall)  female  25.0      0   \n",
       "885               Rice, Mrs. William (Margaret Norton)  female  39.0      0   \n",
       "887                       Graham, Miss. Margaret Edith  female  19.0      0   \n",
       "888           Johnston, Miss. Catherine Helen \"Carrie\"  female  19.0      1   \n",
       "889                              Behr, Mr. Karl Howell    male  26.0      0   \n",
       "\n",
       "     Parch      Ticket     Fare Cabin Embarked  \n",
       "1        0    PC 17599  71.2833   C85        C  \n",
       "3        0      113803  53.1000  C123        S  \n",
       "6        0       17463  51.8625   E46        S  \n",
       "7        1      349909  21.0750   E46        S  \n",
       "9        0      237736  30.0708   E46        C  \n",
       "..     ...         ...      ...   ...      ...  \n",
       "880      1      230433  26.0000   C50        S  \n",
       "885      5      382652  29.1250   C50        Q  \n",
       "887      0      112053  30.0000   B42        S  \n",
       "888      2  W./C. 6607  23.4500   B42        S  \n",
       "889      0      111369  30.0000  C148        C  \n",
       "\n",
       "[433 rows x 12 columns]"
      ]
     },
     "execution_count": 83,
     "metadata": {},
     "output_type": "execute_result"
    }
   ],
   "source": [
    "titanic[ titanic['Fare'] > 15 ]"
   ]
  },
  {
   "cell_type": "markdown",
   "id": "74e82777",
   "metadata": {},
   "source": [
    "---\n",
    "### Exercise 18\n",
    "Let’s consider the mode of the ‘Sex’ column. We have an issue with this column. If we call unique on this, we can see the problem.\n",
    "```\n",
    "df['Sex'].unique()\n",
    "```\n",
    "> array(['male', 'female', nan], dtype=object\n",
    " \n",
    "There is a `nan` value introduced. This might cause us some difficulty when plotting things later. Likewise, other columns might have issues.\n",
    "\n",
    "We can use `df.isnull().any()` to find any columns which contain erroneous entries that might cause problems.\n",
    "\n",
    "```\n",
    "df.isnull().any()\n",
    "\n",
    "PassengerId    False\n",
    "Survived       False\n",
    "Pclass         False\n",
    "Name           False\n",
    "Sex             True\n",
    "Age            False\n",
    "SibSp          False\n",
    "Parch          False\n",
    "Ticket         False\n",
    "Fare           False\n",
    "Cabin          False\n",
    "Embarked       False\n",
    "dtype: bool\n",
    "```\n",
    "\n",
    "---"
   ]
  },
  {
   "cell_type": "code",
   "execution_count": 58,
   "id": "c68d0ec1",
   "metadata": {},
   "outputs": [
    {
     "data": {
      "text/plain": [
       "0    male\n",
       "Name: Sex, dtype: object"
      ]
     },
     "execution_count": 58,
     "metadata": {},
     "output_type": "execute_result"
    }
   ],
   "source": [
    "titanic['Sex'].mode()"
   ]
  },
  {
   "cell_type": "code",
   "execution_count": 59,
   "id": "b8be2c02",
   "metadata": {},
   "outputs": [
    {
     "data": {
      "text/plain": [
       "array(['male', 'female', nan], dtype=object)"
      ]
     },
     "execution_count": 59,
     "metadata": {},
     "output_type": "execute_result"
    }
   ],
   "source": [
    "titanic['Sex'].unique()"
   ]
  },
  {
   "cell_type": "code",
   "execution_count": 61,
   "id": "64d522de",
   "metadata": {},
   "outputs": [
    {
     "data": {
      "text/plain": [
       "PassengerId    False\n",
       "Survived       False\n",
       "Pclass         False\n",
       "Name           False\n",
       "Sex             True\n",
       "Age            False\n",
       "SibSp          False\n",
       "Parch          False\n",
       "Ticket         False\n",
       "Fare           False\n",
       "Cabin          False\n",
       "Embarked       False\n",
       "dtype: bool"
      ]
     },
     "execution_count": 61,
     "metadata": {},
     "output_type": "execute_result"
    }
   ],
   "source": [
    "titanic.isnull().any()"
   ]
  },
  {
   "cell_type": "markdown",
   "id": "791a1a9a",
   "metadata": {},
   "source": [
    "---\n",
    "### Exercise 19\n",
    "To fix this, we have two options:\n",
    "1.\tWe could fix it in the CSV file itself, saving out a cleaner CSV file.\n",
    "2.\tUse Pandas/Seaborn just before plotting to patch the data momentarily (doesn’t change the file on disk).\n",
    "\n",
    "For this exercise, let’s assume we can’t change the CSV file. We can use the `.fillna()` function on a column to fix that issue.\n",
    "```\n",
    "df['Sex'].fillna( value='male', inplace=True)\n",
    "```\n",
    "We provide a default value to patch it with, the mode of the column. We also specify inplace=True, as we want to modify the original dataframe, `df`. Otherwise this call just returns a new dataframe.\n",
    "\n",
    "Fixed:\n",
    "```\n",
    "df['Sex'].unique()\n",
    "```\n",
    "> array(['male', 'female'], dtype=object\n",
    "\n",
    "---"
   ]
  },
  {
   "cell_type": "code",
   "execution_count": 63,
   "id": "5d98ebd9",
   "metadata": {},
   "outputs": [],
   "source": [
    "titanic['Sex'].fillna( value='male', inplace=True)"
   ]
  },
  {
   "cell_type": "code",
   "execution_count": 65,
   "id": "a56e359e",
   "metadata": {},
   "outputs": [
    {
     "data": {
      "text/plain": [
       "array(['male', 'female'], dtype=object)"
      ]
     },
     "execution_count": 65,
     "metadata": {},
     "output_type": "execute_result"
    }
   ],
   "source": [
    "titanic['Sex'].unique()"
   ]
  },
  {
   "cell_type": "markdown",
   "id": "8991665f",
   "metadata": {},
   "source": [
    "---\n",
    "## Seaborn\n",
    "Seaborn has three high-level functions for plotting. Each of these functions uses many things under-the-hood. Primarily these are split into three types:\n",
    "1.\tRelational plots (scatterplot, lineplot)\n",
    "2.\tDistributions (histplot, kdeplot, ecdfplot, rugplot)\n",
    "3.\tCategorical plots (stripplot, swarmplot, boxplot, violinplot, pointplot, barplot)\n",
    " \n",
    "In the lecture this week, we looked at using scatterplot directly. However, we could also have used relplot, the higher-level one, and Seaborn would have figured out to use scatterplot under-the-hood.\n",
    "\n",
    "In the lecture we noticed that the AxesSubPlot type came back from scatterplot, which wasn’t as usable as the FacetGrid that our displot output. If we use relplot instead, we should get back a FacetGrid which is a figure-level operation. Whereas the sub-boxes here operate on the axes-level which doesn’t always have nice functionality.\n",
    "\n",
    "---\n",
    "### Exercise 20\n",
    "Make sure that seaborn is imported (at the top of your Notebook). We will be using `sns` as the alias here.\n",
    "\n",
    "---"
   ]
  },
  {
   "cell_type": "code",
   "execution_count": null,
   "id": "83e843ca",
   "metadata": {},
   "outputs": [],
   "source": []
  },
  {
   "cell_type": "markdown",
   "id": "0d28e999",
   "metadata": {},
   "source": [
    "---\n",
    "### Exercise 21\n",
    "Let’s pick two continuous values to plot against each other. Remember, we can refer back to the columns attribute to see what we have available. This will be a form of multivariate analysis; how one variable is against another.\n",
    "\n",
    "We can use `relplot`, which is the more general plotting function. This will return a FacetGrid and avoid the problem we encountered in the lecture.\n",
    "```\n",
    "sns.relplot(data=df, x='Age', y='Fare')\n",
    "```\n",
    "We provide relplot with the Dataframe to draw from. The column name to use for the x-axis, and the column name for the y-axis. The only downside here is we don’t have any lines of best-fit.\n",
    "\n",
    "---"
   ]
  },
  {
   "cell_type": "code",
   "execution_count": 11,
   "id": "ca9a7f3a",
   "metadata": {},
   "outputs": [
    {
     "data": {
      "image/png": "[encoded data removed]",
      "text/plain": [
       "<Figure size 500x500 with 1 Axes>"
      ]
     },
     "metadata": {},
     "output_type": "display_data"
    }
   ],
   "source": [
    "Titanice_AgeVsFare = sns.relplot(data=titanic, x='Age', y='Fare')"
   ]
  },
  {
   "cell_type": "markdown",
   "id": "dbb2e472",
   "metadata": {},
   "source": [
    "---\n",
    "### Exercise 22\n",
    "We also looked at Univariate analysis, let’s look at Fare and see the distribution of ticket prices. Using `displot()`, plot the Fare column. For now, leave any bins and binwidth to their default values.\n",
    "\n",
    "---"
   ]
  },
  {
   "cell_type": "code",
   "execution_count": 12,
   "id": "fa600687",
   "metadata": {},
   "outputs": [
    {
     "data": {
      "image/png": "[encoded data removed]",
      "text/plain": [
       "<Figure size 500x500 with 1 Axes>"
      ]
     },
     "metadata": {},
     "output_type": "display_data"
    }
   ],
   "source": [
    "Titanice_CountVsFare = sns.displot(titanic, x='Fare')"
   ]
  },
  {
   "cell_type": "markdown",
   "id": "e2f28212",
   "metadata": {},
   "source": [
    "---\n",
    "### Exercise 23\n",
    "In Exercise 22, we can see that’s a lot of bars. Let’s try to tweak that. Modify your function call from Exercise 22, and change the following:\n",
    "1.\tSpecify the number of bins=20\n",
    "2.\tInstead of bins, specify the `binwidth` to be 50.\n",
    "\n",
    "  \n",
    "---"
   ]
  },
  {
   "cell_type": "code",
   "execution_count": 13,
   "id": "46e756c3",
   "metadata": {},
   "outputs": [
    {
     "data": {
      "image/png": "[encoded data removed]",
      "text/plain": [
       "<Figure size 500x500 with 1 Axes>"
      ]
     },
     "metadata": {},
     "output_type": "display_data"
    }
   ],
   "source": [
    "Titanice_CountVsFare1 = sns.displot(titanic, x='Fare', bins=20)"
   ]
  },
  {
   "cell_type": "code",
   "execution_count": 14,
   "id": "3382192a",
   "metadata": {},
   "outputs": [
    {
     "data": {
      "image/png": "[encoded data removed]",
      "text/plain": [
       "<Figure size 500x500 with 1 Axes>"
      ]
     },
     "metadata": {},
     "output_type": "display_data"
    }
   ],
   "source": [
    "Titanice_CountVsFare2 = sns.displot(titanic, x='Fare', binwidth=50)"
   ]
  },
  {
   "cell_type": "markdown",
   "id": "44092f7b",
   "metadata": {},
   "source": [
    "---\n",
    "### Exercise 24\n",
    "We don’t yet understand who pays what fares. Using the concept of conditioning from the lectures, we can colour these plots with some categoric variable. In our dataset for the Titanic we have `Pclass` which represents first-class, second-class, and third-class (whatever that means.)\n",
    "\n",
    "Modify your displot calls from above, and this time add `hue=` for the Pclass column.\n",
    " \n",
    "As we can see, most of the tickets paid for near and above the 100 mark, are almost exclusively purchased by first-class passengers. However, the vast majority of tickets sold are low-price, which seem primarily bought by third-class and some second-class passengers.\n",
    "\n",
    "---"
   ]
  },
  {
   "cell_type": "code",
   "execution_count": 15,
   "id": "e2aa630e",
   "metadata": {},
   "outputs": [
    {
     "data": {
      "image/png": "[encoded data removed]",
      "text/plain": [
       "<Figure size 558.875x500 with 1 Axes>"
      ]
     },
     "metadata": {},
     "output_type": "display_data"
    }
   ],
   "source": [
    "Titanice_CountVsFare3 = sns.displot(titanic, x='Fare', binwidth=50, hue='Pclass')"
   ]
  },
  {
   "cell_type": "code",
   "execution_count": 16,
   "id": "f064ea2e",
   "metadata": {},
   "outputs": [
    {
     "data": {
      "image/png": "[encoded data removed]",
      "text/plain": [
       "<Figure size 558.875x500 with 1 Axes>"
      ]
     },
     "metadata": {},
     "output_type": "display_data"
    }
   ],
   "source": [
    "Titanice_CountVsFare4 = sns.displot(titanic, x='Fare', bins=50, hue='Pclass')"
   ]
  },
  {
   "cell_type": "markdown",
   "id": "699fb232",
   "metadata": {},
   "source": [
    "---\n",
    "### Exercise 25\n",
    "Seaborn has a useful utility function which allows us to load datasets from the library itself, without having to download them and put them somewhere ourselves. Feel free to inspect the dataset you load in here with things we’ve already covered.\n",
    "\n",
    "Useful:  \n",
    "https://seaborn.pydata.org/generated/seaborn.get_dataset_names.html#seaborn.get_dataset_names\n",
    "\n",
    "1.\tCall the function `sns.get_dataset_names()` to obtain a list of valid datasets which Seaborn knows about.\n",
    "2.\tChoose a Dataset you’re interested in.\n",
    "3.\tCall `sns.load_dataset()` passing it the string for the dataset you're interested in.\n",
    "\n",
    "E.g. I’ll choose the Tips dataset about restaurants in America, and the tipping culture.\n",
    " \n",
    "```\n",
    "print( sns.get_dataset_names() )\n",
    "```\n",
    "> ['anagrams', 'anscombe', 'attention', 'brain_networks', 'car_crashes', 'diamonds', 'dots', 'exercise', 'flights', 'fmri', 'gammas', 'geyser', 'iris', 'mpg', 'penguins', 'planets', 'tips', 'titanic'] \n",
    "```\n",
    "total_bill\ttip\tsex\tsmoker\tday\ttime\tsize\n",
    "0\t16.99\t1.01\tFemale\tNo\tSun\tDinner\t2\n",
    "1\t10.34\t1.66\t  Male\tNo\tSun\tDinner\t3\n",
    "2\t21.01\t3.50\t  Male\tNo\tSun\tDinner\t3\n",
    "3\t23.68\t3.31\t  Male\tNo\tSun\tDinner\t2\n",
    "4\t24.59\t3.61\tFemale\tNo\tSun\tDinner\t4\n",
    "...\t...\t...\t...\t...\t...\t...\t...\n",
    "239\t29.03\t5.92\t  Male\tNo\tSat\tDinner\t3\n",
    "240\t27.18\t2.00\tFemale Yes\tSat\tDinner\t2\n",
    "241\t22.67\t2.00\t  Male Yes\tSat\tDinner\t2\n",
    "242\t17.82\t1.75\t  Male\tNo\tSat\tDinner\t2\n",
    "243\t18.78\t3.00\tFemale\tNo\tThur\tDinner\t2\n",
    "244 rows × 7 columns\n",
    "```\n",
    "\n",
    "---"
   ]
  },
  {
   "cell_type": "code",
   "execution_count": 76,
   "id": "47f8da21",
   "metadata": {},
   "outputs": [
    {
     "data": {
      "text/plain": [
       "['anagrams',\n",
       " 'anscombe',\n",
       " 'attention',\n",
       " 'brain_networks',\n",
       " 'car_crashes',\n",
       " 'diamonds',\n",
       " 'dots',\n",
       " 'dowjones',\n",
       " 'exercise',\n",
       " 'flights',\n",
       " 'fmri',\n",
       " 'geyser',\n",
       " 'glue',\n",
       " 'healthexp',\n",
       " 'iris',\n",
       " 'mpg',\n",
       " 'penguins',\n",
       " 'planets',\n",
       " 'seaice',\n",
       " 'taxis',\n",
       " 'tips',\n",
       " 'titanic']"
      ]
     },
     "execution_count": 76,
     "metadata": {},
     "output_type": "execute_result"
    }
   ],
   "source": [
    "sns.get_dataset_names()"
   ]
  },
  {
   "cell_type": "code",
   "execution_count": 78,
   "id": "a4f8af53",
   "metadata": {
    "collapsed": true
   },
   "outputs": [
    {
     "data": {
      "text/html": [
       "<div>\n",
       "<style scoped>\n",
       "    .dataframe tbody tr th:only-of-type {\n",
       "        vertical-align: middle;\n",
       "    }\n",
       "\n",
       "    .dataframe tbody tr th {\n",
       "        vertical-align: top;\n",
       "    }\n",
       "\n",
       "    .dataframe thead th {\n",
       "        text-align: right;\n",
       "    }\n",
       "</style>\n",
       "<table border=\"1\" class=\"dataframe\">\n",
       "  <thead>\n",
       "    <tr style=\"text-align: right;\">\n",
       "      <th></th>\n",
       "      <th>total_bill</th>\n",
       "      <th>tip</th>\n",
       "      <th>sex</th>\n",
       "      <th>smoker</th>\n",
       "      <th>day</th>\n",
       "      <th>time</th>\n",
       "      <th>size</th>\n",
       "    </tr>\n",
       "  </thead>\n",
       "  <tbody>\n",
       "    <tr>\n",
       "      <th>0</th>\n",
       "      <td>16.99</td>\n",
       "      <td>1.01</td>\n",
       "      <td>Female</td>\n",
       "      <td>No</td>\n",
       "      <td>Sun</td>\n",
       "      <td>Dinner</td>\n",
       "      <td>2</td>\n",
       "    </tr>\n",
       "    <tr>\n",
       "      <th>1</th>\n",
       "      <td>10.34</td>\n",
       "      <td>1.66</td>\n",
       "      <td>Male</td>\n",
       "      <td>No</td>\n",
       "      <td>Sun</td>\n",
       "      <td>Dinner</td>\n",
       "      <td>3</td>\n",
       "    </tr>\n",
       "    <tr>\n",
       "      <th>2</th>\n",
       "      <td>21.01</td>\n",
       "      <td>3.50</td>\n",
       "      <td>Male</td>\n",
       "      <td>No</td>\n",
       "      <td>Sun</td>\n",
       "      <td>Dinner</td>\n",
       "      <td>3</td>\n",
       "    </tr>\n",
       "    <tr>\n",
       "      <th>3</th>\n",
       "      <td>23.68</td>\n",
       "      <td>3.31</td>\n",
       "      <td>Male</td>\n",
       "      <td>No</td>\n",
       "      <td>Sun</td>\n",
       "      <td>Dinner</td>\n",
       "      <td>2</td>\n",
       "    </tr>\n",
       "    <tr>\n",
       "      <th>4</th>\n",
       "      <td>24.59</td>\n",
       "      <td>3.61</td>\n",
       "      <td>Female</td>\n",
       "      <td>No</td>\n",
       "      <td>Sun</td>\n",
       "      <td>Dinner</td>\n",
       "      <td>4</td>\n",
       "    </tr>\n",
       "    <tr>\n",
       "      <th>...</th>\n",
       "      <td>...</td>\n",
       "      <td>...</td>\n",
       "      <td>...</td>\n",
       "      <td>...</td>\n",
       "      <td>...</td>\n",
       "      <td>...</td>\n",
       "      <td>...</td>\n",
       "    </tr>\n",
       "    <tr>\n",
       "      <th>239</th>\n",
       "      <td>29.03</td>\n",
       "      <td>5.92</td>\n",
       "      <td>Male</td>\n",
       "      <td>No</td>\n",
       "      <td>Sat</td>\n",
       "      <td>Dinner</td>\n",
       "      <td>3</td>\n",
       "    </tr>\n",
       "    <tr>\n",
       "      <th>240</th>\n",
       "      <td>27.18</td>\n",
       "      <td>2.00</td>\n",
       "      <td>Female</td>\n",
       "      <td>Yes</td>\n",
       "      <td>Sat</td>\n",
       "      <td>Dinner</td>\n",
       "      <td>2</td>\n",
       "    </tr>\n",
       "    <tr>\n",
       "      <th>241</th>\n",
       "      <td>22.67</td>\n",
       "      <td>2.00</td>\n",
       "      <td>Male</td>\n",
       "      <td>Yes</td>\n",
       "      <td>Sat</td>\n",
       "      <td>Dinner</td>\n",
       "      <td>2</td>\n",
       "    </tr>\n",
       "    <tr>\n",
       "      <th>242</th>\n",
       "      <td>17.82</td>\n",
       "      <td>1.75</td>\n",
       "      <td>Male</td>\n",
       "      <td>No</td>\n",
       "      <td>Sat</td>\n",
       "      <td>Dinner</td>\n",
       "      <td>2</td>\n",
       "    </tr>\n",
       "    <tr>\n",
       "      <th>243</th>\n",
       "      <td>18.78</td>\n",
       "      <td>3.00</td>\n",
       "      <td>Female</td>\n",
       "      <td>No</td>\n",
       "      <td>Thur</td>\n",
       "      <td>Dinner</td>\n",
       "      <td>2</td>\n",
       "    </tr>\n",
       "  </tbody>\n",
       "</table>\n",
       "<p>244 rows × 7 columns</p>\n",
       "</div>"
      ],
      "text/plain": [
       "     total_bill   tip     sex smoker   day    time  size\n",
       "0         16.99  1.01  Female     No   Sun  Dinner     2\n",
       "1         10.34  1.66    Male     No   Sun  Dinner     3\n",
       "2         21.01  3.50    Male     No   Sun  Dinner     3\n",
       "3         23.68  3.31    Male     No   Sun  Dinner     2\n",
       "4         24.59  3.61  Female     No   Sun  Dinner     4\n",
       "..          ...   ...     ...    ...   ...     ...   ...\n",
       "239       29.03  5.92    Male     No   Sat  Dinner     3\n",
       "240       27.18  2.00  Female    Yes   Sat  Dinner     2\n",
       "241       22.67  2.00    Male    Yes   Sat  Dinner     2\n",
       "242       17.82  1.75    Male     No   Sat  Dinner     2\n",
       "243       18.78  3.00  Female     No  Thur  Dinner     2\n",
       "\n",
       "[244 rows x 7 columns]"
      ]
     },
     "execution_count": 78,
     "metadata": {},
     "output_type": "execute_result"
    }
   ],
   "source": [
    "sns.load_dataset('tips')"
   ]
  },
  {
   "cell_type": "markdown",
   "id": "581f4a5c",
   "metadata": {},
   "source": [
    "---\n",
    "### Exercise 26\n",
    "Using relplot, plot the `total_bill` against the tip, conditioned on whether the meal was on a Thursday, Friday, Saturday, or Sunday. \n",
    "1.\tAssign a variable to the output of this plot (the handle). We’ll use this later.\n",
    "\n",
    "Hint: There’s a column for this already!\n",
    "\n",
    " \n",
    "---"
   ]
  },
  {
   "cell_type": "code",
   "execution_count": 19,
   "id": "5f3c1908",
   "metadata": {},
   "outputs": [
    {
     "data": {
      "image/png": "[encoded data removed]",
      "text/plain": [
       "<Figure size 581.75x500 with 1 Axes>"
      ]
     },
     "metadata": {},
     "output_type": "display_data"
    }
   ],
   "source": [
    "tip_seabornplot= sns.relplot(data=sns.load_dataset('tips'), x='total_bill', y='tip', hue='day')"
   ]
  },
  {
   "cell_type": "code",
   "execution_count": 82,
   "id": "4d6e9f41",
   "metadata": {},
   "outputs": [
    {
     "data": {
      "text/plain": [
       "<seaborn.axisgrid.FacetGrid at 0x214a75c2c10>"
      ]
     },
     "execution_count": 82,
     "metadata": {},
     "output_type": "execute_result"
    }
   ],
   "source": [
    "tip_seabornplot\n"
   ]
  },
  {
   "cell_type": "markdown",
   "id": "73c9a3e0",
   "metadata": {},
   "source": [
    "---\n",
    "### Exercise 27\n",
    "With Seaborn, and the handle to the FacetGrid we have the ability to modify the various aspects about the plot. The most useful might be the names of the axes, a potential title for the figure, and the legend (sometimes it’s in a bad spot).\n",
    "\n",
    "Warning: These are valid for FacetGrid objects only. Therefore, they need to be using those high-level plotting functions, <u>relplot</u>, <u>displot</u>, and <u>catplot</u>.\n",
    "\n",
    "The issue is that if we try to update the plot after it’s drawn, we can’t go back.\n",
    "\n",
    "We can use a Jupyter Notebook magic command to dynamically update the plot when changes happen.\n",
    "```\n",
    "%matplotlib inline\n",
    "t_plt = sns.relplot(data=tips_ds, x='total_bill', y='tip', hue='day')\n",
    "t_plt.set_axis_labels(\"Total Meal Cost ($)\", \"Total Tip ($)\")\n",
    "```\n",
    "`%matplotlib inline` tells Jupyter and Seaborn how to display this nicely.\n",
    "Secondly, we can call the function `set_axis_labels`, passing in custom strings to use. Previously it used the variable name, which might not be the nicest.\n",
    "\n",
    "Alternatively, we could use `set_xlabels`, and `set_ylabels` if we wanted to.\n",
    "\n",
    "---"
   ]
  },
  {
   "cell_type": "code",
   "execution_count": 84,
   "id": "c0057e4d",
   "metadata": {},
   "outputs": [
    {
     "data": {
      "text/plain": [
       "<seaborn.axisgrid.FacetGrid at 0x214a75c2c10>"
      ]
     },
     "execution_count": 84,
     "metadata": {},
     "output_type": "execute_result"
    }
   ],
   "source": [
    "%matplotlib inline\n",
    "tip_seabornplot.set_axis_labels(\"Total Meal Cost ($)\", \"Total Tip ($)\")"
   ]
  },
  {
   "cell_type": "markdown",
   "id": "f6e40c7e",
   "metadata": {},
   "source": [
    "---\n",
    "## Saving Figures out.\n",
    "As we saw in the Lecture, any visualisation which is shown in the Jupyter Notebook can be saved programmatically. This is useful if you were to do many plots and wanted to output them all in a folder.\n",
    "\n",
    "As we saw, the savefig function is a figure-level method (defined on FacetGrid objects). So any of the big boxes (relplot, displot, catplot) will provide these easily for you.\n",
    "\n",
    "---\n",
    "### Exercise 28\n",
    "Save the `t_plt` figure we created in Ex 27. Call `savefig`, and provide a file location, and filename to save it.\n",
    "\n",
    "E.g.\n",
    "```\n",
    "t_plt.savefig('./tipping.png')\n",
    "```\n",
    "Open up the image in an image viewer, and check that everything is as expected. The data points, the conditioning, and the axis labels.\n",
    "\n",
    "---"
   ]
  },
  {
   "cell_type": "code",
   "execution_count": 85,
   "id": "bd658804",
   "metadata": {},
   "outputs": [],
   "source": [
    "tip_seabornplot.savefig('./tipping.png')"
   ]
  },
  {
   "cell_type": "markdown",
   "id": "41f4782d",
   "metadata": {},
   "source": [
    "---\n",
    "### Exercise 29\n",
    "If we wanted to save many plots, but all in one place, we might want to use a data structure which can hold names against objects. This sounds like a Dictionary.\n",
    "\n",
    "Create a dictionary where each key is the filename, and the value at that key is a handle to a figure.\n",
    "\n",
    "E.g.\n",
    "```\n",
    "figures_to_save = {}\n",
    "figures_to_save[\"./tipping.png\"] = t_plt\n",
    "figures_to_save[\"./fares_univariate.png\"] = fares_plt\n",
    "# Etc. Do this for all the plots we've done so far!\n",
    "# You'll need handles to the,, go and change the code to add some.\n",
    "```\n",
    "\n",
    "---"
   ]
  },
  {
   "cell_type": "code",
   "execution_count": 22,
   "id": "adf6ea76",
   "metadata": {},
   "outputs": [
    {
     "data": {
      "text/plain": [
       "{'./tipping.png': <seaborn.axisgrid.FacetGrid at 0x281b8edacd0>,\n",
       " './countvsfare1.png': <seaborn.axisgrid.FacetGrid at 0x281b7c5c6d0>,\n",
       " './countvsfare2.png': <seaborn.axisgrid.FacetGrid at 0x281b7d8d750>,\n",
       " './countvsfare3.png': <seaborn.axisgrid.FacetGrid at 0x281b7ba6610>,\n",
       " './countvsfare4.png': <seaborn.axisgrid.FacetGrid at 0x281b58e3310>,\n",
       " './agevsfare.png': <seaborn.axisgrid.FacetGrid at 0x281b593acd0>}"
      ]
     },
     "execution_count": 22,
     "metadata": {},
     "output_type": "execute_result"
    }
   ],
   "source": [
    "figures_to_save = {}\n",
    "figures_to_save[\"./tipping.png\"] = tip_seabornplot\n",
    "figures_to_save[\"./countvsfare1.png\"] = Titanice_CountVsFare1\n",
    "figures_to_save[\"./countvsfare2.png\"] = Titanice_CountVsFare2\n",
    "figures_to_save[\"./countvsfare3.png\"] = Titanice_CountVsFare3\n",
    "figures_to_save[\"./countvsfare4.png\"] = Titanice_CountVsFare4\n",
    "figures_to_save[\"./agevsfare.png\"] = Titanice_AgeVsFare\n",
    "\n",
    "figures_to_save"
   ]
  },
  {
   "cell_type": "markdown",
   "id": "eb32c1e3",
   "metadata": {},
   "source": [
    "---\n",
    "### Exercise 30\n",
    "Using this dictionary, iterate over it, and call `savefig` on each value, passing it the key as the file path.\n",
    "\n",
    "---"
   ]
  },
  {
   "cell_type": "code",
   "execution_count": 23,
   "id": "2f10f775",
   "metadata": {},
   "outputs": [],
   "source": [
    "for k,v in figures_to_save.items():\n",
    "    v.savefig(k)\n",
    "    "
   ]
  },
  {
   "cell_type": "markdown",
   "id": "78e8da56",
   "metadata": {},
   "source": [
    "---\n",
    "## You Must be Quackers\n",
    "### Exercise 31\n",
    "\n",
    "Let’s revisit the ducks. From Ex2 we should have loaded in some ducks (I called my List of them ducks). At the moment we have a problem. Our ducks don’t have any ages! Let’s resolve that.\n",
    "\n",
    "The usual format us humans like to use for date of birth is DD/MM/YYYY. E.g 30 / 10 / 1979\n",
    "\n",
    "1.\tGenerate random numbers for day, month, and year. Remember that they have bounds. I.e. You cannot possibly have Day 736. Or Month 13. Or Year 2021 (at least as far as DOB is concerned.\n",
    "    a.\tHow might you handle the fact that some months have more days than others? Maybe consider generating the month first, then using some conditionals?\n",
    "    ```\n",
    "    if mm in [ 9, 4 6, 11 ]:\n",
    "    ```\n",
    "    b.\tIs zero a valid day?\n",
    "    c.\tIf you want to go crazy and consider leap years, you are welcome to\n",
    "\n",
    "2.\tPut these into a List, in order of day, month, year.\n",
    "3.\tUse the following string methods for joining to combine them into a convenient DOB format.\n",
    "\n",
    "In Python we have two string methods which are particularly useful when breaking down, or building up strings. These are `.split()` and `.join()`\n",
    "\n",
    "We can make a string, whereby a phrase or character are put between each element of our iterable (List). However, make sure the List has strings in it! It won’t cast by default.\n",
    "\n",
    "E.g.\n",
    "```\n",
    "print( \"-\".join( [ \"1\", \"2\", \"3\", \"4\", \"5\", \"6\" ] ) )\n",
    "\n",
    "print( \"mississippi\".join( [ \"1\", \"2\", \"3\", \"4\", \"5\", \"6\" ] ) )\n",
    "```\n",
    "> 1-2-3-4-5-6  \n",
    "1mississippi2mississippi3mississippi4mississippi5mississippi6\n",
    "\n",
    "If we print the now randomised birthday of each duck, the List we made looks something like:\n",
    "\n",
    "> [31, 7, 1982]  \n",
    "[2, 10, 1946]\n",
    "[4, 12, 1971]\n",
    "\n",
    "If we now use these with our .join approach, to put the ‘/’ between.\n",
    "```\n",
    "print( \"/\".join([str(dd), str(mm), str(yyyy)]) ) # This could also be assigned to a variable don't forget!\n",
    "``` \n",
    "> 31/7/1982    \n",
    "2/10/1946  \n",
    "4/12/1971\n",
    "\n",
    "This doesn’t look right. We want the days and months to be padded appropriately. E.g 2 -> 02.\n",
    "\n",
    "Luckily, the f-strings we were dealing with earlier can help us out here.\n",
    "```\n",
    "dd = f\"{dd:02d}\"\n",
    "mm = f\"{mm:02d}\"\n",
    "```\n",
    "This should now mean that everything is at least 2 digits, and will pad them if not.\n",
    "\n",
    "> 31/07/1982    \n",
    "02/10/1946  \n",
    "04/12/1971\n",
    "\n",
    "4.\tThe result of each line is a string in itself. Assign this to a “dob” key on the individual duck. The DOB calculation could be a function which does it all for you and returns a string in the right format.\n",
    "```\n",
    "for d in ducks:\n",
    "\t# Calculate DOB HERE. Lots of lines.\n",
    "\td[\"dob\"] = dob_value\n",
    "```\n",
    "\n",
    "---"
   ]
  },
  {
   "cell_type": "code",
   "execution_count": 32,
   "id": "08325263",
   "metadata": {},
   "outputs": [],
   "source": [
    "def gen_dob():\n",
    "    yyyy = random.randint(1900, 1999)\n",
    "    if yyyy % 4 == 0:\n",
    "        mm = random.randint(1, 12)\n",
    "        if mm == 2:\n",
    "            dd = random.randint(1, 29)\n",
    "        elif mm == 4 or 6 or 9 or 11:\n",
    "            dd = random.randint(1, 30)\n",
    "        else:\n",
    "            dd = random.randint(1, 31)\n",
    "\n",
    "    else:\n",
    "        mm = random.randint(1, 12)\n",
    "        if mm == 4 or mm == 6 or mm == 9 or mm == 11:\n",
    "            dd = random.randint(1, 30)\n",
    "        else:\n",
    "            dd = random.randint(1, 31)\n",
    "    Result = \"/\".join([f\"{dd:02d}\", f\"{mm:02d}\", str(yyyy)])\n",
    "    return Result"
   ]
  },
  {
   "cell_type": "code",
   "execution_count": 33,
   "id": "ddabba2a",
   "metadata": {},
   "outputs": [],
   "source": [
    "for d in W4_duckfile: \n",
    "    d[\"DoB\"] = gen_dob()"
   ]
  },
  {
   "cell_type": "code",
   "execution_count": 34,
   "id": "215f06ad",
   "metadata": {},
   "outputs": [
    {
     "name": "stdout",
     "output_type": "stream",
     "text": [
      "[{'first_name': 'Davey', 'last_name': 'McDuck', 'location': \"Rob's Office\", 'insane': True, 'followers': 12865, 'following': 120, 'weapons': ['wit', 'steely stare', 'devilish good looks'], 'remorse': None, 'DoB': '04/02/1924'}, {'first_name': 'Jim', 'last_name': 'Bob', 'location': 'Turing Lab', 'insane': False, 'followers': 123, 'following': 5000, 'weapons': ['squeak'], 'remorse': None, 'DoB': '26/08/1970'}, {'first_name': 'Celest', 'last_name': '', 'location': 'Throne Room', 'insane': True, 'followers': 40189, 'following': 1, 'weapons': ['politics', 'dance moves', 'chess grandmaster', 'immortality'], 'DoB': '27/12/1911'}]\n"
     ]
    }
   ],
   "source": [
    "print(W4_duckfile)"
   ]
  },
  {
   "cell_type": "markdown",
   "id": "ae95be72",
   "metadata": {},
   "source": [
    "---\n",
    "### Exercise 32\n",
    "\n",
    "What if we’re given a date and asked to break it back down. 02/10/1946 is obviously not a number. We can use `.split()` here.\n",
    "```\n",
    "breakdown = \"02/10/1946\".split('/') # Split the string (could be a variable), based on /. Will return a List.\n",
    "```\n",
    "We can access the days with `breakdown[0]`, months with `[1]`, and years with `[2]`. If we try to cast the day into an integer it hopefully should covert 02 -> 2 for us.\n",
    "\n",
    "1.\tRead through each Duck again\n",
    "2.\tGrab the new key you just added, for the dob.\n",
    "3.\tSplit this dob based on ‘/’\n",
    "4.\tFor day and month convert them to `int` and print them.\n",
    "```\n",
    "for d in ducks:\n",
    "  \t \n",
    "\tbreakdown = d['dob'].split('/')\n",
    "\tdd = int( breakdown[0] )\n",
    "\tmm = int( breakdown[1] )\n",
    "\tyyyy = int( breakdown[2] )\n",
    "    \n",
    "\tprint(dd, mm, yyyy)\n",
    "```\n",
    "5.\tCalculate how old each duck will be today.  \n",
    "\n",
    " E.g. You could do 2020 - yyyy; however, that could be off by ± 11months and 30 days! Imagine if the duck was only born this year, it would be 0 years old. But we might want to celebrate it’s first month.  \n",
    " \n",
    "  Your calculation will have to double check how many months it has been as well as days.  \n",
    "\n",
    "  Hint: What if doing current month - duck dob month is a negative number? How do we need to handle this?\n",
    "\n",
    "Example:\n",
    "\n",
    "31 / 07 / 1982 would be:\n",
    "\n",
    "    -\t2020 - 1982 = 38 years\n",
    "    -\t10 - 07 = 3 months\n",
    "    -\t23 - 31 = -8 days.\n",
    "\n",
    "Only by looking at months could we definitely say it’s been 38 years. E.g. If we had negative months, then we’ve not actually completed a full year yet! Similarly, we look at days when determining if we’ve completed full months. In this case, we’re 8 days shy of hitting 3 months.\n",
    "\n",
    "\n",
    "---"
   ]
  },
  {
   "cell_type": "code",
   "execution_count": 46,
   "id": "bcb9f085",
   "metadata": {},
   "outputs": [
    {
     "name": "stdout",
     "output_type": "stream",
     "text": [
      "Davey age is 99 years 0 months 21 days \n",
      "Jim age is 53 years -6 months -1 days \n",
      "Celest age is 112 years -10 months -2 days \n"
     ]
    }
   ],
   "source": [
    "current_day= 25\n",
    "current_month =2\n",
    "current_year = 2023\n",
    "\n",
    "for d in W4_duckfile:\n",
    "       \n",
    "    breakdown = d['DoB'].split('/')\n",
    "    dd = int( breakdown[0] )\n",
    "    mm = int( breakdown[1] )\n",
    "    yyyy = int( breakdown[2] )\n",
    "    \n",
    "    print(d['first_name'], f'age is {current_year - yyyy} years {current_month - mm} months {current_day - dd} days ' )"
   ]
  },
  {
   "cell_type": "code",
   "execution_count": null,
   "id": "8059116b",
   "metadata": {},
   "outputs": [],
   "source": []
  }
 ],
 "metadata": {
  "kernelspec": {
   "display_name": "Python 3 (ipykernel)",
   "language": "python",
   "name": "python3"
  },
  "language_info": {
   "codemirror_mode": {
    "name": "ipython",
    "version": 3
   },
   "file_extension": ".py",
   "mimetype": "text/x-python",
   "name": "python",
   "nbconvert_exporter": "python",
   "pygments_lexer": "ipython3",
   "version": "3.11.1"
  }
 },
 "nbformat": 4,
 "nbformat_minor": 5
}
