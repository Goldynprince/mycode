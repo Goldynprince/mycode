{
 "cells": [
  {
   "cell_type": "code",
   "execution_count": 39,
   "metadata": {},
   "outputs": [],
   "source": [
    "class Cat( object ):\n",
    "    def __init__(self, name, cat_age):\n",
    "        self.name = name\n",
    "        self.age = cat_age\n",
    "        \n",
    "    def speak(self):\n",
    "        if self.age > 1 and self.age < 99:\n",
    "            print(\"meeeeeeeeeeeeeeeeeeow\")\n",
    "        elif self.age > 99:\n",
    "                print(\"UGH\")\n",
    "        else:\n",
    "            print(\"mew\")\n",
    "            \n",
    "    def __str__(self):\n",
    "        return \"My name is \" + self.name + \" and I'm \" + str(self.age) + \" years old\""
   ]
  },
  {
   "cell_type": "code",
   "execution_count": 32,
   "metadata": {},
   "outputs": [],
   "source": [
    "some_new_cat = Cat(\"kira\", 0.5)"
   ]
  },
  {
   "cell_type": "code",
   "execution_count": 33,
   "metadata": {},
   "outputs": [
    {
     "name": "stdout",
     "output_type": "stream",
     "text": [
      "kira\n",
      "0.5\n"
     ]
    }
   ],
   "source": [
    "print( some_new_cat.name )\n",
    "print( some_new_cat.age )"
   ]
  },
  {
   "cell_type": "code",
   "execution_count": 34,
   "metadata": {},
   "outputs": [
    {
     "name": "stdout",
     "output_type": "stream",
     "text": [
      "mew\n"
     ]
    }
   ],
   "source": [
    "some_new_cat.speak()"
   ]
  },
  {
   "cell_type": "code",
   "execution_count": 35,
   "metadata": {},
   "outputs": [
    {
     "name": "stdout",
     "output_type": "stream",
     "text": [
      "My name is kira and I'm 0.5 years old\n"
     ]
    }
   ],
   "source": [
    "print( some_new_cat )"
   ]
  },
  {
   "cell_type": "code",
   "execution_count": 14,
   "metadata": {},
   "outputs": [],
   "source": [
    "tinkles = Cat(\"Mr Tinkles\", 10)"
   ]
  },
  {
   "cell_type": "code",
   "execution_count": 15,
   "metadata": {},
   "outputs": [
    {
     "name": "stdout",
     "output_type": "stream",
     "text": [
      "meeeeeeeeeeeeeeeeeeow\n"
     ]
    }
   ],
   "source": [
    "tinkles.speak()"
   ]
  },
  {
   "cell_type": "code",
   "execution_count": 16,
   "metadata": {},
   "outputs": [
    {
     "name": "stdout",
     "output_type": "stream",
     "text": [
      "My name is Mr Tinkles\n"
     ]
    }
   ],
   "source": [
    "print(tinkles)"
   ]
  },
  {
   "cell_type": "code",
   "execution_count": 8,
   "metadata": {},
   "outputs": [
    {
     "name": "stdout",
     "output_type": "stream",
     "text": [
      "<class '__main__.Cat'>\n"
     ]
    }
   ],
   "source": [
    "print(type(tinkles))"
   ]
  },
  {
   "cell_type": "code",
   "execution_count": 40,
   "metadata": {},
   "outputs": [],
   "source": [
    "dead_cat = Cat(\"Dead\", 1000)"
   ]
  },
  {
   "cell_type": "code",
   "execution_count": 41,
   "metadata": {
    "scrolled": true
   },
   "outputs": [
    {
     "name": "stdout",
     "output_type": "stream",
     "text": [
      "UGH\n"
     ]
    }
   ],
   "source": [
    "dead_cat.speak()"
   ]
  },
  {
   "cell_type": "code",
   "execution_count": null,
   "metadata": {},
   "outputs": [],
   "source": []
  }
 ],
 "metadata": {
  "kernelspec": {
   "display_name": "Python 3",
   "language": "python",
   "name": "python3"
  },
  "language_info": {
   "codemirror_mode": {
    "name": "ipython",
    "version": 3
   },
   "file_extension": ".py",
   "mimetype": "text/x-python",
   "name": "python",
   "nbconvert_exporter": "python",
   "pygments_lexer": "ipython3",
   "version": "3.8.5"
  }
 },
 "nbformat": 4,
 "nbformat_minor": 4
}
