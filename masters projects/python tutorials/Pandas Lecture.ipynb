{
 "cells": [
  {
   "cell_type": "markdown",
   "metadata": {},
   "source": [
    "# Pandas\n",
    "<img src=\"https://media.discordapp.net/attachments/739234516857782373/759029377157038091/IMG_20200925_133132.jpg?width=669&height=892\" width=50% align=\"left\"></img>"
   ]
  },
  {
   "cell_type": "markdown",
   "metadata": {},
   "source": [
    "In this Session we'll look at a common Data Analysis Library for Python, known as Pandas.\n",
    "For this module, we'll look at the basics of importing data, looking at two main types of Object which Pandas provides - the DataFrame and Data Series objects - as well as ways of manipulating these and interacting with them.\n",
    "\n",
    "The primary motivation behind using Pandas is that it's a high-level library, with few lines of code we can do very powerful and robust 'things' to our data. We will be using these in this module to interrogate some data. This will become more important as the Programme continues (with Kevin's module: Fundamentals)"
   ]
  },
  {
   "cell_type": "markdown",
   "metadata": {},
   "source": [
    "## Installing\n",
    "It is unlikely that you will have the `pandas` pip package already installed. Therefore, we'll want to run `pip install pandas` from a command-line to install this, just as we have done before for Jupyter and Numpy."
   ]
  },
  {
   "cell_type": "code",
   "execution_count": 1,
   "metadata": {},
   "outputs": [
    {
     "name": "stdout",
     "output_type": "stream",
     "text": [
      "Defaulting to user installation because normal site-packages is not writeable\n",
      "Requirement already satisfied: pandas in /home/radon/.local/lib/python3.8/site-packages (0.25.3)\n",
      "Requirement already satisfied: numpy>=1.13.3 in /usr/lib/python3.8/site-packages (from pandas) (1.19.2)\n",
      "Requirement already satisfied: pytz>=2017.2 in /home/radon/.local/lib/python3.8/site-packages (from pandas) (2020.1)\n",
      "Requirement already satisfied: python-dateutil>=2.6.1 in /usr/lib/python3.8/site-packages (from pandas) (2.8.1)\n",
      "Requirement already satisfied: six>=1.5 in /usr/lib/python3.8/site-packages (from python-dateutil>=2.6.1->pandas) (1.15.0)\n"
     ]
    }
   ],
   "source": [
    "!pip install pandas"
   ]
  },
  {
   "cell_type": "markdown",
   "metadata": {},
   "source": [
    "We can also use some Jupyter functionality here to execute system commands."
   ]
  },
  {
   "cell_type": "markdown",
   "metadata": {},
   "source": [
    "## Import\n",
    "As always, we need to import our Library. Typically at the top of our File. Just like what we did with our Numpy library, I'm going to alias this to `pd` so that we don't need to type so many pandas.\n",
    "\n",
    "```python\n",
    "import pandas as pd\n",
    "```\n",
    "\n",
    "If we have multiple libraries, we might have something that looks like the following:\n",
    "    \n",
    "```python\n",
    "import numpy as np\n",
    "import csv\n",
    "import pandas as pd\n",
    "import json\n",
    "```\n",
    "\n",
    "Each of these is executed in order, just as any Python expressions are. `import` and `as` are keywords which Python recognises and knows what to do with them."
   ]
  },
  {
   "cell_type": "code",
   "execution_count": 3,
   "metadata": {},
   "outputs": [
    {
     "name": "stdout",
     "output_type": "stream",
     "text": [
      "<class 'module'>\n"
     ]
    }
   ],
   "source": [
    "import pandas as pd\n",
    "print( type(pd) )"
   ]
  },
  {
   "cell_type": "markdown",
   "metadata": {},
   "source": [
    "Now we have our pandas library imported, we can begin to use some functionality from it. It acts as a big kitchen sink full of useful Data Analysis utilities.\n",
    "\n",
    "The first thing we need to do is to learn how to load some data in.\n",
    "Pandas can do this via the `read_csv` function. (https://pandas.pydata.org/pandas-docs/stable/reference/api/pandas.read_csv.html)\n",
    "\n",
    "Looking at the documentation may seem rather overwhelming. The main parameter we're interested in, is the non-optional one. The first one. `filepath_or_buffer`. We can provide this function a location, as a string, to a file we want to open. This file **MUST** be in the CSV file format to be interpreted correctly, without error.\n",
    "\n",
    "When we invoke/call this function, it returns a DataFrame Object. Some convention likes to name the variable returned by `read_csv` as `df` for dataframe. However, you can name this something more descriptive!\n",
    "\n",
    "```python\n",
    "my_dataframe = pd.read_csv('./iris.csv')\n",
    "# I'm going to load a popular dataset which I have a file for.\n",
    "```"
   ]
  },
  {
   "cell_type": "code",
   "execution_count": 4,
   "metadata": {},
   "outputs": [],
   "source": [
    "my_dataframe = pd.read_csv('./iris.csv')"
   ]
  },
  {
   "cell_type": "markdown",
   "metadata": {},
   "source": [
    "We can check the type of `my_dataframe` to verify what it is."
   ]
  },
  {
   "cell_type": "code",
   "execution_count": 5,
   "metadata": {},
   "outputs": [
    {
     "name": "stdout",
     "output_type": "stream",
     "text": [
      "<class 'pandas.core.frame.DataFrame'>\n"
     ]
    }
   ],
   "source": [
    "print(type(my_dataframe))"
   ]
  },
  {
   "cell_type": "markdown",
   "metadata": {},
   "source": [
    "The last line of a Notebook cell is what's output from the cell itself. Jupyter has some nice ways of interpreting data frames for display.\n",
    "If we use print, it looks horrible. But if we leave it out (for a Jupyter Notebook), we get a much prettier print."
   ]
  },
  {
   "cell_type": "code",
   "execution_count": 6,
   "metadata": {},
   "outputs": [
    {
     "name": "stdout",
     "output_type": "stream",
     "text": [
      "     sepal.length  sepal.width  petal.length  petal.width    variety\n",
      "0             5.1          3.5           1.4          0.2     Setosa\n",
      "1             4.9          3.0           1.4          0.2     Setosa\n",
      "2             4.7          3.2           1.3          0.2     Setosa\n",
      "3             4.6          3.1           1.5          0.2     Setosa\n",
      "4             5.0          3.6           1.4          0.2     Setosa\n",
      "..            ...          ...           ...          ...        ...\n",
      "145           6.7          3.0           5.2          2.3  Virginica\n",
      "146           6.3          2.5           5.0          1.9  Virginica\n",
      "147           6.5          3.0           5.2          2.0  Virginica\n",
      "148           6.2          3.4           5.4          2.3  Virginica\n",
      "149           5.9          3.0           5.1          1.8  Virginica\n",
      "\n",
      "[150 rows x 5 columns]\n"
     ]
    }
   ],
   "source": [
    "print(my_dataframe) # Ugly"
   ]
  },
  {
   "cell_type": "code",
   "execution_count": 7,
   "metadata": {},
   "outputs": [
    {
     "data": {
      "text/html": [
       "<div>\n",
       "<style scoped>\n",
       "    .dataframe tbody tr th:only-of-type {\n",
       "        vertical-align: middle;\n",
       "    }\n",
       "\n",
       "    .dataframe tbody tr th {\n",
       "        vertical-align: top;\n",
       "    }\n",
       "\n",
       "    .dataframe thead th {\n",
       "        text-align: right;\n",
       "    }\n",
       "</style>\n",
       "<table border=\"1\" class=\"dataframe\">\n",
       "  <thead>\n",
       "    <tr style=\"text-align: right;\">\n",
       "      <th></th>\n",
       "      <th>sepal.length</th>\n",
       "      <th>sepal.width</th>\n",
       "      <th>petal.length</th>\n",
       "      <th>petal.width</th>\n",
       "      <th>variety</th>\n",
       "    </tr>\n",
       "  </thead>\n",
       "  <tbody>\n",
       "    <tr>\n",
       "      <th>0</th>\n",
       "      <td>5.1</td>\n",
       "      <td>3.5</td>\n",
       "      <td>1.4</td>\n",
       "      <td>0.2</td>\n",
       "      <td>Setosa</td>\n",
       "    </tr>\n",
       "    <tr>\n",
       "      <th>1</th>\n",
       "      <td>4.9</td>\n",
       "      <td>3.0</td>\n",
       "      <td>1.4</td>\n",
       "      <td>0.2</td>\n",
       "      <td>Setosa</td>\n",
       "    </tr>\n",
       "    <tr>\n",
       "      <th>2</th>\n",
       "      <td>4.7</td>\n",
       "      <td>3.2</td>\n",
       "      <td>1.3</td>\n",
       "      <td>0.2</td>\n",
       "      <td>Setosa</td>\n",
       "    </tr>\n",
       "    <tr>\n",
       "      <th>3</th>\n",
       "      <td>4.6</td>\n",
       "      <td>3.1</td>\n",
       "      <td>1.5</td>\n",
       "      <td>0.2</td>\n",
       "      <td>Setosa</td>\n",
       "    </tr>\n",
       "    <tr>\n",
       "      <th>4</th>\n",
       "      <td>5.0</td>\n",
       "      <td>3.6</td>\n",
       "      <td>1.4</td>\n",
       "      <td>0.2</td>\n",
       "      <td>Setosa</td>\n",
       "    </tr>\n",
       "    <tr>\n",
       "      <th>...</th>\n",
       "      <td>...</td>\n",
       "      <td>...</td>\n",
       "      <td>...</td>\n",
       "      <td>...</td>\n",
       "      <td>...</td>\n",
       "    </tr>\n",
       "    <tr>\n",
       "      <th>145</th>\n",
       "      <td>6.7</td>\n",
       "      <td>3.0</td>\n",
       "      <td>5.2</td>\n",
       "      <td>2.3</td>\n",
       "      <td>Virginica</td>\n",
       "    </tr>\n",
       "    <tr>\n",
       "      <th>146</th>\n",
       "      <td>6.3</td>\n",
       "      <td>2.5</td>\n",
       "      <td>5.0</td>\n",
       "      <td>1.9</td>\n",
       "      <td>Virginica</td>\n",
       "    </tr>\n",
       "    <tr>\n",
       "      <th>147</th>\n",
       "      <td>6.5</td>\n",
       "      <td>3.0</td>\n",
       "      <td>5.2</td>\n",
       "      <td>2.0</td>\n",
       "      <td>Virginica</td>\n",
       "    </tr>\n",
       "    <tr>\n",
       "      <th>148</th>\n",
       "      <td>6.2</td>\n",
       "      <td>3.4</td>\n",
       "      <td>5.4</td>\n",
       "      <td>2.3</td>\n",
       "      <td>Virginica</td>\n",
       "    </tr>\n",
       "    <tr>\n",
       "      <th>149</th>\n",
       "      <td>5.9</td>\n",
       "      <td>3.0</td>\n",
       "      <td>5.1</td>\n",
       "      <td>1.8</td>\n",
       "      <td>Virginica</td>\n",
       "    </tr>\n",
       "  </tbody>\n",
       "</table>\n",
       "<p>150 rows × 5 columns</p>\n",
       "</div>"
      ],
      "text/plain": [
       "     sepal.length  sepal.width  petal.length  petal.width    variety\n",
       "0             5.1          3.5           1.4          0.2     Setosa\n",
       "1             4.9          3.0           1.4          0.2     Setosa\n",
       "2             4.7          3.2           1.3          0.2     Setosa\n",
       "3             4.6          3.1           1.5          0.2     Setosa\n",
       "4             5.0          3.6           1.4          0.2     Setosa\n",
       "..            ...          ...           ...          ...        ...\n",
       "145           6.7          3.0           5.2          2.3  Virginica\n",
       "146           6.3          2.5           5.0          1.9  Virginica\n",
       "147           6.5          3.0           5.2          2.0  Virginica\n",
       "148           6.2          3.4           5.4          2.3  Virginica\n",
       "149           5.9          3.0           5.1          1.8  Virginica\n",
       "\n",
       "[150 rows x 5 columns]"
      ]
     },
     "execution_count": 7,
     "metadata": {},
     "output_type": "execute_result"
    }
   ],
   "source": [
    "my_dataframe # Pretty\n",
    "# Notice the cell output says Out[] with a number."
   ]
  },
  {
   "cell_type": "markdown",
   "metadata": {},
   "source": [
    "## DataFrames and Series\n",
    "Pandas has two data objects, `DataFrames` and `Series`\n",
    "\n",
    "* <u>Series</u> - A `Series` object is a one dimensional data structure. It stores sequential values, each value has an index. This is conceptually similar to a Python List. However, with all Pandas objects we have additionally functionality defined which we can make use of.\n",
    "\n",
    "\n",
    "* <u>DataFrame</u> - This represents a 2D (or more) data structure. It is essentially a standard table which consists of rows of data records, where each column is an attribute. Each column has its data attribute name, and each row has an index (starting from 0)\n",
    "\n",
    "Documentation outlining all attributes and methods of these Objects can be found in their respective Documentation pages. https://pandas.pydata.org/pandas-docs/stable/reference/series.html and https://pandas.pydata.org/pandas-docs/stable/reference/frame.html"
   ]
  },
  {
   "cell_type": "markdown",
   "metadata": {},
   "source": [
    "## Indexing DataFrames\n",
    "\n",
    "We can obtain an entire attribute (column) by indexing it from the DataFrame.\n",
    "Previously we were used to indexing elements directly, where these represented the unique people through our dataset. However, here, we're looking at getting ALL of a specific attribute.\n",
    "\n",
    "Our Dataset contains 5 Data attributes:\n",
    "\n",
    "* sepal length\n",
    "* sepal width\n",
    "* petal length\n",
    "* petal width\n",
    "* flower name"
   ]
  },
  {
   "cell_type": "markdown",
   "metadata": {},
   "source": [
    "<img src=\"https://miro.medium.com/max/1275/1*7bnLKsChXq94QjtAiRn40w.png\" width=100%></img>"
   ]
  },
  {
   "cell_type": "markdown",
   "metadata": {},
   "source": [
    "We can index a given DataFrame by use of square brackets (as we would expect). However, this behaves similarly to a Dictionary, in that our attribute names are actually strings.\n",
    "\n",
    "If we wanted a list of the column headings we can just use `my_dataframe.columns` as an attribute.\n",
    "\n",
    "```python\n",
    "my_dataframe.columns\n",
    "```\n",
    "\n",
    "From this we can see the column heading for Sepal Length is called \"sepal.length\". This can be any name. In our CSV files it could be something like \"Sepal Length (mm)\" which one might expect from more user-friendly data.\n",
    "\n",
    "If you opened the CSV file provided in a notepad, you can see the headers are what our Data Frame is using, it automatically grabbed them for us when creating the original Data Frame!\n",
    "\n",
    "```python\n",
    "sepal_lengths = my_dataframe['sepal.length']\n",
    "```\n",
    "\n",
    "This should give us a `Series` object. As if we take a single column, it represents a 1D structure. We can prove this by calling `type()` on it!\n",
    "\n",
    "```python\n",
    "print(type(sepal_length))\n",
    "```"
   ]
  },
  {
   "cell_type": "code",
   "execution_count": 8,
   "metadata": {},
   "outputs": [
    {
     "name": "stdout",
     "output_type": "stream",
     "text": [
      "Index(['sepal.length', 'sepal.width', 'petal.length', 'petal.width',\n",
      "       'variety'],\n",
      "      dtype='object')\n",
      "sepal.length\n",
      "sepal.width\n",
      "petal.length\n",
      "petal.width\n",
      "variety\n"
     ]
    }
   ],
   "source": [
    "print(my_dataframe.columns)\n",
    "#Or\n",
    "for c in my_dataframe.columns:\n",
    "    print(c)"
   ]
  },
  {
   "cell_type": "code",
   "execution_count": 9,
   "metadata": {},
   "outputs": [
    {
     "name": "stdout",
     "output_type": "stream",
     "text": [
      "<class 'pandas.core.series.Series'>\n"
     ]
    }
   ],
   "source": [
    "sepal_lengths = my_dataframe['sepal.length']\n",
    "print(type(sepal_lengths))"
   ]
  },
  {
   "cell_type": "markdown",
   "metadata": {},
   "source": [
    "### Statistical Measures of Data Series\n",
    "\n",
    "We can calculate some very simple statistical measures of our data for this column.\n",
    "\n",
    "Let's look at <u>min</u>, <u>max</u>, <u>mean</u>, <u>median</u>, and <u>mode</u>.\n",
    "\n",
    "The first four, are all measures which work on numbers. The latter, mode, is for categorical data such as the variety of flower (There are only three types of flower).\n",
    "\n",
    "These are all methods defined upon a Data Series object. So we can just invoke them! This is just like we had for numpy matrices too.\n",
    "\n",
    "```python\n",
    "# Take our Data Series object\n",
    "print( sepal_lengths.min() )\n",
    "print( sepal_lengths.max() )\n",
    "print( sepal_lengths.mean() )\n",
    "print( sepal_lengths.median() )\n",
    "```"
   ]
  },
  {
   "cell_type": "code",
   "execution_count": 10,
   "metadata": {},
   "outputs": [
    {
     "name": "stdout",
     "output_type": "stream",
     "text": [
      "4.3\n",
      "7.9\n",
      "5.843333333333334\n",
      "5.8\n"
     ]
    }
   ],
   "source": [
    "# Take our Data Series object\n",
    "print( sepal_lengths.min() )\n",
    "print( sepal_lengths.max() )\n",
    "print( sepal_lengths.mean() )\n",
    "print( sepal_lengths.median() )"
   ]
  },
  {
   "cell_type": "markdown",
   "metadata": {},
   "source": [
    "### F-strings\n",
    "If we want some fancier printing, we can use a Python 3.6 feature called `f-strings`. This allows us to directly insert variables into strings for the purpose of display, without having to worry about concatenattion.\n",
    "\n",
    "E.g\n",
    "```python\n",
    "f\"\" # This is an f-string. It has an f before the \"\" or ''\n",
    "some_var = 42\n",
    "print(f\"We can write normal strings with it.\")\n",
    "print(f\"also input variables, like {some_var} in it.\")\n",
    "```\n",
    "\n",
    "Just put your variable between curly braces {} to include it automatically. Notice how it's also done some casting for us."
   ]
  },
  {
   "cell_type": "code",
   "execution_count": 11,
   "metadata": {},
   "outputs": [
    {
     "name": "stdout",
     "output_type": "stream",
     "text": [
      "We can write normal strings with it.\n",
      "also input variables, like 42 in it.\n"
     ]
    }
   ],
   "source": [
    "f\"\" # This is an f-string. It has an f before the \"\" or ''\n",
    "some_var = 42\n",
    "print(f\"We can write normal strings with it.\")\n",
    "print(f\"also input variables, like {some_var} in it.\")"
   ]
  },
  {
   "cell_type": "markdown",
   "metadata": {},
   "source": [
    "Let's use these with our fancy statistical metrics to print things a bit nicer.\n"
   ]
  },
  {
   "cell_type": "code",
   "execution_count": 12,
   "metadata": {},
   "outputs": [
    {
     "name": "stdout",
     "output_type": "stream",
     "text": [
      "Sepal Length Min: 4.3\n",
      "Sepal Length Max: 7.9\n",
      "Sepal Length Mean: 5.843333333333334\n",
      "Sepal Length Median: 5.8\n"
     ]
    }
   ],
   "source": [
    "print( f\"Sepal Length Min: {sepal_lengths.min()}\" )\n",
    "print( f\"Sepal Length Max: {sepal_lengths.max()}\" )\n",
    "print( f\"Sepal Length Mean: {sepal_lengths.mean()}\" )\n",
    "print( f\"Sepal Length Median: {sepal_lengths.median()}\" )"
   ]
  },
  {
   "cell_type": "markdown",
   "metadata": {},
   "source": [
    "Now let's look at that last one mode. If we use this on Sepal Length, it's not very useful. Length is a continuous bit of data. So we'll use it on the variety.\n",
    "\n",
    "This method behaves differently, as it returns them in order of the most common to least. So the result is actually a Data Series itself. Very confusing.\n",
    "\n",
    "```python\n",
    "modes = my_dataframe['variety'].mode()\n",
    "for m in modes:\n",
    "    print(m)\n",
    "```\n",
    "\n",
    "Notice how I don't need to make a variable first to put it in here. Anything that evaluates to a number or string or something you want to put in can be used. In this case, I indexed our column, variety, then took the mode of the resulting series, all in a single expression."
   ]
  },
  {
   "cell_type": "code",
   "execution_count": 13,
   "metadata": {},
   "outputs": [
    {
     "name": "stdout",
     "output_type": "stream",
     "text": [
      "Setosa\n",
      "Versicolor\n",
      "Virginica\n"
     ]
    }
   ],
   "source": [
    "modes = my_dataframe['variety'].mode()\n",
    "for m in modes:\n",
    "    print(m)"
   ]
  },
  {
   "cell_type": "markdown",
   "metadata": {},
   "source": [
    "### Unique, Describe, Count.\n",
    "We also have methods for obtaining the amount of unique values in a given attribute (column). In our case this is useful to verify we only have three types of flowers.\n",
    "\n",
    "```python\n",
    "print( my_dataframe['variety'].unique() )\n",
    "```"
   ]
  },
  {
   "cell_type": "code",
   "execution_count": 14,
   "metadata": {
    "scrolled": true
   },
   "outputs": [
    {
     "name": "stdout",
     "output_type": "stream",
     "text": [
      "['Setosa' 'Versicolor' 'Virginica']\n"
     ]
    }
   ],
   "source": [
    "print( my_dataframe['variety'].unique() )"
   ]
  },
  {
   "cell_type": "markdown",
   "metadata": {},
   "source": [
    "`.count()` provides us with a way of finding all non-null elements within a column.\n",
    "\n",
    "```python\n",
    "print( my_dataframe['variety'].count() )\n",
    "```\n",
    "\n",
    "This may be different than the number of rows you expect."
   ]
  },
  {
   "cell_type": "code",
   "execution_count": 15,
   "metadata": {},
   "outputs": [
    {
     "name": "stdout",
     "output_type": "stream",
     "text": [
      "150\n"
     ]
    }
   ],
   "source": [
    "print( my_dataframe['variety'].count() )"
   ]
  },
  {
   "cell_type": "markdown",
   "metadata": {},
   "source": [
    "Finally, `.describe()` allows us to look at various qualities of the DataFrame of Series.\n",
    "\n",
    "```python \n",
    "print(my_dataframe['variety'].describe())\n",
    "```"
   ]
  },
  {
   "cell_type": "code",
   "execution_count": 16,
   "metadata": {},
   "outputs": [
    {
     "name": "stdout",
     "output_type": "stream",
     "text": [
      "count            150\n",
      "unique             3\n",
      "top       Versicolor\n",
      "freq              50\n",
      "Name: variety, dtype: object\n"
     ]
    }
   ],
   "source": [
    "print(my_dataframe['variety'].describe())"
   ]
  },
  {
   "cell_type": "markdown",
   "metadata": {},
   "source": [
    "Note: Many of these functions actually work on the whole DataFrame itself!\n",
    "    \n",
    "```python\n",
    "print(my_dataframe.describe())\n",
    "```"
   ]
  },
  {
   "cell_type": "code",
   "execution_count": 17,
   "metadata": {},
   "outputs": [
    {
     "data": {
      "text/html": [
       "<div>\n",
       "<style scoped>\n",
       "    .dataframe tbody tr th:only-of-type {\n",
       "        vertical-align: middle;\n",
       "    }\n",
       "\n",
       "    .dataframe tbody tr th {\n",
       "        vertical-align: top;\n",
       "    }\n",
       "\n",
       "    .dataframe thead th {\n",
       "        text-align: right;\n",
       "    }\n",
       "</style>\n",
       "<table border=\"1\" class=\"dataframe\">\n",
       "  <thead>\n",
       "    <tr style=\"text-align: right;\">\n",
       "      <th></th>\n",
       "      <th>sepal.length</th>\n",
       "      <th>sepal.width</th>\n",
       "      <th>petal.length</th>\n",
       "      <th>petal.width</th>\n",
       "    </tr>\n",
       "  </thead>\n",
       "  <tbody>\n",
       "    <tr>\n",
       "      <th>count</th>\n",
       "      <td>150.000000</td>\n",
       "      <td>150.000000</td>\n",
       "      <td>150.000000</td>\n",
       "      <td>150.000000</td>\n",
       "    </tr>\n",
       "    <tr>\n",
       "      <th>mean</th>\n",
       "      <td>5.843333</td>\n",
       "      <td>3.057333</td>\n",
       "      <td>3.758000</td>\n",
       "      <td>1.199333</td>\n",
       "    </tr>\n",
       "    <tr>\n",
       "      <th>std</th>\n",
       "      <td>0.828066</td>\n",
       "      <td>0.435866</td>\n",
       "      <td>1.765298</td>\n",
       "      <td>0.762238</td>\n",
       "    </tr>\n",
       "    <tr>\n",
       "      <th>min</th>\n",
       "      <td>4.300000</td>\n",
       "      <td>2.000000</td>\n",
       "      <td>1.000000</td>\n",
       "      <td>0.100000</td>\n",
       "    </tr>\n",
       "    <tr>\n",
       "      <th>25%</th>\n",
       "      <td>5.100000</td>\n",
       "      <td>2.800000</td>\n",
       "      <td>1.600000</td>\n",
       "      <td>0.300000</td>\n",
       "    </tr>\n",
       "    <tr>\n",
       "      <th>50%</th>\n",
       "      <td>5.800000</td>\n",
       "      <td>3.000000</td>\n",
       "      <td>4.350000</td>\n",
       "      <td>1.300000</td>\n",
       "    </tr>\n",
       "    <tr>\n",
       "      <th>75%</th>\n",
       "      <td>6.400000</td>\n",
       "      <td>3.300000</td>\n",
       "      <td>5.100000</td>\n",
       "      <td>1.800000</td>\n",
       "    </tr>\n",
       "    <tr>\n",
       "      <th>max</th>\n",
       "      <td>7.900000</td>\n",
       "      <td>4.400000</td>\n",
       "      <td>6.900000</td>\n",
       "      <td>2.500000</td>\n",
       "    </tr>\n",
       "  </tbody>\n",
       "</table>\n",
       "</div>"
      ],
      "text/plain": [
       "       sepal.length  sepal.width  petal.length  petal.width\n",
       "count    150.000000   150.000000    150.000000   150.000000\n",
       "mean       5.843333     3.057333      3.758000     1.199333\n",
       "std        0.828066     0.435866      1.765298     0.762238\n",
       "min        4.300000     2.000000      1.000000     0.100000\n",
       "25%        5.100000     2.800000      1.600000     0.300000\n",
       "50%        5.800000     3.000000      4.350000     1.300000\n",
       "75%        6.400000     3.300000      5.100000     1.800000\n",
       "max        7.900000     4.400000      6.900000     2.500000"
      ]
     },
     "execution_count": 17,
     "metadata": {},
     "output_type": "execute_result"
    }
   ],
   "source": [
    "my_dataframe.describe() # Remember if it's output of the cell, it's prettier. Only works in Jupyter."
   ]
  },
  {
   "cell_type": "code",
   "execution_count": null,
   "metadata": {},
   "outputs": [],
   "source": []
  }
 ],
 "metadata": {
  "kernelspec": {
   "display_name": "Python 3",
   "language": "python",
   "name": "python3"
  },
  "language_info": {
   "codemirror_mode": {
    "name": "ipython",
    "version": 3
   },
   "file_extension": ".py",
   "mimetype": "text/x-python",
   "name": "python",
   "nbconvert_exporter": "python",
   "pygments_lexer": "ipython3",
   "version": "3.8.5"
  }
 },
 "nbformat": 4,
 "nbformat_minor": 4
}
