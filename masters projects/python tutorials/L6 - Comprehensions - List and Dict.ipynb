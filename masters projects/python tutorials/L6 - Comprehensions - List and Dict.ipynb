{
 "cells": [
  {
   "cell_type": "markdown",
   "metadata": {},
   "source": [
    "# For Loops\n",
    "\n",
    "Currently we've looked at for loops. With these we can perform various procedures such as adding 5 to every number from 0 -> 20 (exclusive)"
   ]
  },
  {
   "cell_type": "code",
   "execution_count": 1,
   "metadata": {},
   "outputs": [
    {
     "name": "stdout",
     "output_type": "stream",
     "text": [
      "[5, 6, 7, 8, 9, 10, 11, 12, 13, 14, 15, 16, 17, 18, 19, 20, 21, 22, 23, 24]\n"
     ]
    }
   ],
   "source": [
    "# E.g\n",
    "results = []\n",
    "for i in range(20):\n",
    "    results.append( i + 5 )\n",
    "    \n",
    "# We should expect 5 -> 25 (exclusive)\n",
    "print(results)"
   ]
  },
  {
   "cell_type": "markdown",
   "metadata": {},
   "source": [
    "1. We instantiate an empty list `results = []`\n",
    "2. We iterate over range(20) `[0,1,2,3,....,19]`\n",
    "3. Calculate `i + 5`, append it to results."
   ]
  },
  {
   "cell_type": "markdown",
   "metadata": {},
   "source": [
    "# List Comprehensions\n",
    "List comprehensions are an alternative way of making lists.\n",
    "This is considered a more elegant and **pythonic** way of writing them.\n",
    "\n",
    "We can rewrite the above example as the following:"
   ]
  },
  {
   "cell_type": "code",
   "execution_count": 2,
   "metadata": {},
   "outputs": [
    {
     "name": "stdout",
     "output_type": "stream",
     "text": [
      "[5, 6, 7, 8, 9, 10, 11, 12, 13, 14, 15, 16, 17, 18, 19, 20, 21, 22, 23, 24]\n"
     ]
    }
   ],
   "source": [
    "results2 = [ i + 5 for i in range(20) ]\n",
    "\n",
    "# Sanity print, just to make sure it's equivalent.\n",
    "print(results2)"
   ]
  },
  {
   "cell_type": "code",
   "execution_count": 3,
   "metadata": {},
   "outputs": [],
   "source": [
    "# Let's go a step further and get Python to verify.\n",
    "# assert is a function that will Error if the condition doesn't hold.\n",
    "# assert(results == results2)\n",
    "\n",
    "# Could also use an if, if we didn't want a big red klaxon to go off.\n",
    "# if results == results2:\n",
    "#     print(\"They are equivalent!\")\n",
    "\n",
    "# assert(\"bob\" == \"cat\") # Uncomment the beginning of this line if you want to check that."
   ]
  },
  {
   "cell_type": "markdown",
   "metadata": {},
   "source": [
    "## List Comprehensions are comprised of 3 main elements:\n",
    "\n",
    "`new_list = [ expression for element in some_iterable ]`\n",
    "\n",
    "1. **expression** - This element itself, a function call, any expression which can be evaluated. E.g i + 5\n",
    "2. **element** - The element variable from the iterable. E.g i for our example.\n",
    "3. **some_iterable** - An Iterable Data Structure. Hint: If it works with `for elem in the_structure` then it's a candidate for this. E.g range(20) in our case.\n",
    "\n",
    "The main gotcha here, is that expression has to be 'singular'. We cannot have `<expression>` `<expression>` `<expression>` like in the case of more complicated for-loops.\n",
    "But, we've seen expressions are quite powerful and flexible. An expression can be a function call, just as easily as it can be `i`, or `i + 5`. E.g `something_new_list = [ get_grade( student ) for student in roster ]`\n",
    "\n",
    "### Why Bother?\n",
    "Compare the for loop variants to the List Comprehension variants. It can be argued that List Comprehensions vastly improve readability. They are robust, and can be utilised in many different situations. Reduces cognitive load - We don't need to keep track of loop iterations or have any *side effects*.\n",
    "\n",
    "List Comprehensions are inherently more **declarative** in nature, it reads more like plain english than a set of computer instructions. Higher-level than for loops alone. It doesn't require the creation of extra variables, then appending, etc. Instead you declare what you want this list to be, and Python takes care of the creation, and appending."
   ]
  },
  {
   "cell_type": "markdown",
   "metadata": {},
   "source": [
    "## List Comprehensions: Level 2\n",
    "Commonly, list comprehensions are utilised as filters on existing data structures. This is a very important and handy operation in Data Science.\n",
    "\n",
    "However, with our above definition, there's no real way to filter the list unless you put all of that logic into get_grade function.\n",
    "\n",
    "Luckily, List Comprehensions have some additional syntax.\n",
    "\n",
    "`new_list [ expression for element in some_iterable (if conditional) ]`\n",
    "\n",
    "### Example: Filtering a list of numbers for even numbers."
   ]
  },
  {
   "cell_type": "code",
   "execution_count": 4,
   "metadata": {},
   "outputs": [
    {
     "name": "stdout",
     "output_type": "stream",
     "text": [
      "[20, 10, 12]\n",
      "[20, 10, 12]\n"
     ]
    }
   ],
   "source": [
    "numbers = [20, 23, 10, 12, 7, 9, 11]\n",
    "\n",
    "# Traditional approach\n",
    "even_numbers = []\n",
    "for n in numbers:\n",
    "    if n % 2 == 0:\n",
    "        even_numbers.append( n )\n",
    "        \n",
    "print(even_numbers)\n",
    "\n",
    "# List Comprehension Way\n",
    "even_numbers = [n for n in numbers if n % 2 == 0]\n",
    "print(even_numbers)"
   ]
  },
  {
   "cell_type": "markdown",
   "metadata": {},
   "source": [
    "As you can see, the list comprehension way is a single line, at the same indentation level! And it perfectly filtered our input list.\n",
    "\n",
    "\"But!\" I hear you interject, that's just a simple check. Using our knowledge of Boolean Expressions we can build increasingly complex logic, that still works in this format. So long as it can return a True/False, it can be used."
   ]
  },
  {
   "cell_type": "code",
   "execution_count": 5,
   "metadata": {},
   "outputs": [
    {
     "name": "stdout",
     "output_type": "stream",
     "text": [
      "[20, 23, 10, 12, 7, 9, 11, 89.001983276298]\n",
      "[20, 23, 10, 12, 7, 9, 11, 89.001983276298]\n"
     ]
    }
   ],
   "source": [
    "a_mess = [20, 23, [1,2], 10, 12, 7, 9, \"bob\", 11, \"cat\", 89.001983276298, {}]\n",
    "\n",
    "# How are we going to filter this mess!\n",
    "\n",
    "# Make a function with a good name! As it returns bool, we do is_ for good readability and understanding!\n",
    "def is_number(n):\n",
    "    # a or b returns True if either is the case. \n",
    "    # As 'number' could be an integer, or a float, we have to consider both.\n",
    "    return isinstance(n, int) or isinstance(n, float)\n",
    "\n",
    "numbers_filtered = [ x for x in a_mess if is_number(x) ]\n",
    "print(numbers_filtered)\n",
    "\n",
    "# We can also do the following, if we didn't want to make it a function ( if we only ever use it once for example )\n",
    "numbers_filtered = [ x for x in a_mess if (isinstance(x, int) or isinstance(x, float)) ]\n",
    "print(numbers_filtered)"
   ]
  },
  {
   "cell_type": "markdown",
   "metadata": {},
   "source": [
    "### List Comprehensions: Level 3\n",
    "\n",
    "So we can filter whether or not to include, or exclude a data element. What if we wanted to change what that element becomes in the output?\n",
    "\n",
    "`new_list = [ expression (if cond) for element in some_iterable ]`\n",
    "\n",
    "We can use a conditional at the beginning (rather than the end), to change the value."
   ]
  },
  {
   "cell_type": "code",
   "execution_count": 6,
   "metadata": {},
   "outputs": [
    {
     "name": "stdout",
     "output_type": "stream",
     "text": [
      "[0, 0, 12, 11.34, 0]\n"
     ]
    }
   ],
   "source": [
    "sales = [-10, -32.9, 12, 11.34, 0]\n",
    "\n",
    "#profit_only = [ i for i in sales ] # This would get each element.\n",
    "#profit_only = [ i for i in sales if i > 0] # This would exclude all data members < 0.\n",
    "profit_only = [ i if i > 0 else 0 for i in sales ]\n",
    "\n",
    "print(profit_only)"
   ]
  },
  {
   "cell_type": "markdown",
   "metadata": {},
   "source": [
    "If we used our condition at the end, as a filter, it would have returned only a list length of 2. What we actually wanted was to find out much profit we made per item. Putting the condition at the front allows us to modify the value that goes into our output list.\n",
    "\n",
    "Try uncommenting the other lines to see the differences (remember to only have one line on at anytime!)"
   ]
  },
  {
   "cell_type": "markdown",
   "metadata": {},
   "source": [
    "That example is a little bit complex and unreadable. We can bring back our friend the function to help us here."
   ]
  },
  {
   "cell_type": "code",
   "execution_count": 7,
   "metadata": {},
   "outputs": [
    {
     "name": "stdout",
     "output_type": "stream",
     "text": [
      "[0, 0, 12, 11.34, 0]\n"
     ]
    }
   ],
   "source": [
    "sales = [-10, -32.9, 12, 11.34, 0]\n",
    "\n",
    "def get_profit(n):\n",
    "    if n > 0:\n",
    "        return n\n",
    "    else:\n",
    "        return 0\n",
    "    \n",
    "# More compact\n",
    "# def get_profit(n):\n",
    "#     return n if n > 0 else 0\n",
    "\n",
    "profit_only = [ get_profit(i) for i in sales ]\n",
    "\n",
    "print(profit_only)"
   ]
  },
  {
   "cell_type": "markdown",
   "metadata": {},
   "source": [
    "Much more readable!\n",
    "\n",
    "Always strive for more readable code, understanding is key. If it does the task in a more complicated way its more likely to be misunderstood, or any errors missed. Clarity of communication should be core focus after functionality."
   ]
  },
  {
   "cell_type": "markdown",
   "metadata": {},
   "source": [
    "# Dict Comprehensions\n",
    "Just like how List Comprehensions can improve situations for Lists, we can also do these on Dictionaries. (And even data structures like Sets too)\n",
    "\n",
    "They behave the same way, but have slightly different syntax, we need to account for the key and value.\n",
    "\n",
    "`new_dict = {key: val for val in some_iterable}`\n",
    "\n",
    "These may seem harder to use as you need a variable for the key, and the value. These are used less often than List comprehensions."
   ]
  },
  {
   "cell_type": "code",
   "execution_count": 8,
   "metadata": {},
   "outputs": [
    {
     "name": "stdout",
     "output_type": "stream",
     "text": [
      "{0: 5, 1: 6, 2: 7, 3: 8, 4: 9, 5: 10, 6: 11, 7: 12, 8: 13, 9: 14, 10: 15, 11: 16, 12: 17, 13: 18, 14: 19, 15: 20, 16: 21, 17: 22, 18: 23, 19: 24}\n"
     ]
    }
   ],
   "source": [
    "new_prices = {v: v + 5 for v in range(20)}\n",
    "print(new_prices)\n",
    "\n",
    "# 0 -> 0 + 5\n",
    "# 1 -> 1 + 5\n",
    "# ...\n",
    "# 19 -> 19 + 5"
   ]
  },
  {
   "cell_type": "markdown",
   "metadata": {},
   "source": [
    "### More advanced\n",
    "This will use zip, and enumerate to show examples of things which have multiple values per iteration, so we can use one as a key, and one as a value"
   ]
  },
  {
   "cell_type": "code",
   "execution_count": 9,
   "metadata": {},
   "outputs": [
    {
     "name": "stdout",
     "output_type": "stream",
     "text": [
      "{'Ada': 98.0, 'Grace': 76.9, 'Jim': 75.0}\n"
     ]
    }
   ],
   "source": [
    "# See https://docs.python.org/3.8/library/functions.html#zip\n",
    "\n",
    "people = [\"Ada\", \"Grace\", \"Jim\"]\n",
    "grades = [98.0, 76.9, 75.0]\n",
    "\n",
    "people_grades_dict = {name: grade for name, grade in zip(people, grades)}\n",
    "print(people_grades_dict)"
   ]
  },
  {
   "cell_type": "code",
   "execution_count": 10,
   "metadata": {},
   "outputs": [
    {
     "name": "stdout",
     "output_type": "stream",
     "text": [
      "0 458\n",
      "1 122\n",
      "2 32.5\n",
      "3 89\n",
      "\n",
      "\n",
      "\n",
      "{0: 549.6, 1: 146.4, 2: 39.0, 3: 106.8}\n"
     ]
    }
   ],
   "source": [
    "# See https://docs.python.org/3.8/library/functions.html#enumerate\n",
    "\n",
    "prices = [ 458, 122, 32.5, 89 ]\n",
    "\n",
    "def vat_inclusive( price ):\n",
    "    \"\"\" Calculate a 20% tax on price\n",
    "    Parameters:\n",
    "        price: float\n",
    "    Outputs:\n",
    "        Float value which has 20% tax added to price\n",
    "    \"\"\"\n",
    "    \n",
    "    return price * 1.2 # or price + price*0.2\n",
    "\n",
    "# Store the index, against the \n",
    "# Let's see what enumerate does first\n",
    "for i, v in enumerate( prices ):\n",
    "    print(i, v) # Gives us a counter (from 0) and the value. Literally enumerates them.\n",
    "\n",
    "print(\"\\n\\n\") # Bunch of new lines.\n",
    "id_prices_dict = {k: vat_inclusive(price) for k, price in enumerate(prices)}\n",
    "print(id_prices_dict)\n"
   ]
  },
  {
   "cell_type": "markdown",
   "metadata": {},
   "source": [
    "# Why wouldn't I use List Comprehensions\n",
    "\n",
    "At the moment, we've been dealing with a single for loop.\n",
    "\n",
    "### Nesting\n",
    "A **nested** Comprehension is slightly more tricky. If we wanted a List with a List at every index. Or a List at every value for a key in a dictionary?\n",
    "\n",
    "Let's say we wanted to track the Daily Power Output for the first week of the month, of Wind Turbines in various sites. List in a Dictionary would be the ideal data structure for this."
   ]
  },
  {
   "cell_type": "code",
   "execution_count": 11,
   "metadata": {},
   "outputs": [
    {
     "name": "stdout",
     "output_type": "stream",
     "text": [
      "Project One [0, 0, 0, 0, 0, 0, 0]\n",
      "Candidate Site B [0, 0, 0, 0, 0, 0, 0]\n",
      "EOL Zeta [0, 0, 0, 0, 0, 0, 0]\n"
     ]
    }
   ],
   "source": [
    "turbine_sites = [\"Project One\", \"Candidate Site B\", \"EOL Zeta\"]\n",
    "MW_output = {site_location: [0 for _ in range(7)] for site_location in turbine_sites }\n",
    "\n",
    "# This is our starting data structure.\n",
    "# print(MW_output)\n",
    "\n",
    "# Prettier printing\n",
    "for site, output in MW_output.items():\n",
    "    print(site, output)"
   ]
  },
  {
   "cell_type": "markdown",
   "metadata": {},
   "source": [
    "In this example we have created a dictionary, which has a key for every major turbine site, and at this key stores the List of MW Output for the first 7 days of the month. Currently these are initialised as 0, but we can now populate this structure with real-world values by using indexing.\n",
    "\n",
    "`MW_output[\"Project One\"][2] = 0.78` This would be the 3rd day of 'Project One' site, which recorded 0.78 MW for the day."
   ]
  },
  {
   "cell_type": "markdown",
   "metadata": {},
   "source": [
    "Nested Lists - Lists in Lists, are common, we might do the following:\n",
    "\n",
    "`mat = [ [i for i in range(5)] for _ in range(5) ]`\n",
    "\n",
    "These are often refered to as <u>matrices</u>, which are used extensively in mathematical computing."
   ]
  },
  {
   "cell_type": "code",
   "execution_count": 12,
   "metadata": {},
   "outputs": [
    {
     "name": "stdout",
     "output_type": "stream",
     "text": [
      "[[0, 1, 2, 3, 4], [0, 1, 2, 3, 4], [0, 1, 2, 3, 4], [0, 1, 2, 3, 4], [0, 1, 2, 3, 4]]\n",
      "\n",
      "\n",
      "[0, 1, 2, 3, 4]\n",
      "[0, 1, 2, 3, 4]\n",
      "[0, 1, 2, 3, 4]\n",
      "[0, 1, 2, 3, 4]\n",
      "[0, 1, 2, 3, 4]\n"
     ]
    }
   ],
   "source": [
    "mat = [ [i for i in range(5)] for _ in range(5) ]\n",
    "print(mat)\n",
    "print(\"\\n\")\n",
    "for line in mat:\n",
    "    print(line)"
   ]
  },
  {
   "cell_type": "markdown",
   "metadata": {},
   "source": [
    "### Flattening\n",
    "\n",
    "As we progress, we can get into situations where readability quickly suffers. The example above is more complex, but still readable.\n",
    "\n",
    "If we took a 2D matrix such as the one above, and attempted to **flatten** it. Such that it was in a 1D array instead of 2D."
   ]
  },
  {
   "cell_type": "code",
   "execution_count": 13,
   "metadata": {},
   "outputs": [
    {
     "name": "stdout",
     "output_type": "stream",
     "text": [
      "[0, 0, 0, 1, 1, 1, 2, 2, 2]\n"
     ]
    }
   ],
   "source": [
    "simple_mat = [\n",
    "    [ 0, 0, 0 ],\n",
    "    [ 1, 1, 1 ],\n",
    "    [ 2, 2, 2 ]\n",
    "]\n",
    "\n",
    "flattened_mat = [ n for row in simple_mat for n in row ]\n",
    "# WHAT?!?!?!\n",
    "\n",
    "print(flattened_mat)"
   ]
  },
  {
   "cell_type": "code",
   "execution_count": 14,
   "metadata": {},
   "outputs": [
    {
     "name": "stdout",
     "output_type": "stream",
     "text": [
      "[0, 0, 0, 1, 1, 1, 2, 2, 2]\n"
     ]
    }
   ],
   "source": [
    "# Let's break this down\n",
    "\n",
    "results = []\n",
    "for row in simple_mat:\n",
    "    for number in row:\n",
    "        results.append( number )\n",
    "print(results)"
   ]
  },
  {
   "cell_type": "markdown",
   "metadata": {},
   "source": [
    "Which is more readable to you now? I know I certainly prefer the second one. It is far too simple to get things in the wrong order.\n",
    "This nightmare gets compounded should we ever wish to put some conditionals in there. If we want to filter which items are considered, or modify the values that get put in the output (or both at the same time!)"
   ]
  },
  {
   "cell_type": "code",
   "execution_count": null,
   "metadata": {},
   "outputs": [],
   "source": []
  }
 ],
 "metadata": {
  "kernelspec": {
   "display_name": "Python 3",
   "language": "python",
   "name": "python3"
  },
  "language_info": {
   "codemirror_mode": {
    "name": "ipython",
    "version": 3
   },
   "file_extension": ".py",
   "mimetype": "text/x-python",
   "name": "python",
   "nbconvert_exporter": "python",
   "pygments_lexer": "ipython3",
   "version": "3.8.5"
  }
 },
 "nbformat": 4,
 "nbformat_minor": 4
}
